{
 "cells": [
  {
   "cell_type": "code",
   "execution_count": null,
   "metadata": {},
   "outputs": [],
   "source": [
    "# Dependencies\n",
    "import json\n",
    "import pandas as pd\n",
    "import numpy as np\n",
    "import matplotlib.pyplot as plt\n",
    "from scipy.stats import linregress"
   ]
  },
  {
   "cell_type": "code",
   "execution_count": null,
   "metadata": {},
   "outputs": [],
   "source": [
    "csv_path = \"Resources/videos.csv\"\n",
    "df = pd.read_csv(csv_path)\n",
    "# df.head(10)"
   ]
  },
  {
   "cell_type": "code",
   "execution_count": null,
   "metadata": {},
   "outputs": [],
   "source": [
    "# clean up data before creating dataframe for calculations\n",
    "df_path = \"Resources/videos.csv\"\n",
    "df = pd.read_csv(df_path)\n",
    "\n",
    "df[[\"publish date\", \"asdf\"]] = df[\"publish_time\"].str.split(pat=\"T\", n=1, expand=True)\n",
    "\n",
    "\n",
    "df[[\"publish time\", \"trash\"]] = df[\"asdf\"].str.split(pat=\".\", n=1, expand=True)\n",
    "\n",
    "\n",
    "df[\"publish date\"] = pd.to_datetime(df[\"publish date\"])\n",
    "df[\"publish_date\"] = df[\"publish date\"].dt.strftime('%m/%d/%Y')\n",
    "\n",
    "\n",
    "category_json_path = \"Resources/US_category_id.json\"\n",
    "category_dict = {'category_id': [], 'Category': []}\n",
    "indexer = 0\n",
    "\n",
    "with open(category_json_path) as json_data:\n",
    "  data = json.load(json_data)\n",
    "\n",
    "items = data['items']\n",
    "items\n",
    "\n",
    "for item in items:\n",
    "    \n",
    "    category_dict['category_id'].append(data['items'][indexer]['id'])\n",
    "    category_dict['Category'].append(data['items'][indexer]['snippet']['title'])\n",
    "    indexer = indexer + 1\n",
    "        \n",
    "\n",
    "\n",
    "category_df = pd.DataFrame(category_dict)\n",
    "category_df[\"category_id\"] = category_df[\"category_id\"].astype(int)\n",
    "df = df.merge(category_df, how='inner', on='category_id')\n",
    "\n",
    "\n",
    "\n",
    "df[\"trending_date\"]=pd.to_datetime(df[\"trending_date\"].astype(str), format=\"%y.%d.%m\")\n",
    "df[\"trending_date\"] = df[\"trending_date\"].dt.strftime(\"%m/%d/%Y\")\n",
    "#df.head()"
   ]
  },
  {
   "cell_type": "code",
   "execution_count": null,
   "metadata": {},
   "outputs": [],
   "source": [
    "# clean up data frame for only columns we want to work with\n",
    "df = df[[\"video_id\", \"title\", \"channel_title\", \"Category\", \"publish time\", \"publish_date\", \"trending_date\", \"views\", \"likes\", \"dislikes\", \"tags\", \"comments_disabled\"]]\n",
    "#df.head()"
   ]
  },
  {
   "cell_type": "code",
   "execution_count": null,
   "metadata": {},
   "outputs": [],
   "source": [
    "# data frame with rows for last trending date\n",
    "last_df = df[['video_id', 'trending_date']]\n",
    "last_df = last_df.groupby('video_id').max()\n",
    "last_df = last_df.reset_index()\n",
    "last_df = last_df.merge(df, how ='left')\n",
    "last_df.head()"
   ]
  },
  {
   "cell_type": "code",
   "execution_count": null,
   "metadata": {},
   "outputs": [],
   "source": [
    "# data frame with rows for first trending date\n",
    "first_df = df[['video_id', 'trending_date']]\n",
    "first_df = first_df.groupby('video_id').min()\n",
    "first_df = first_df.reset_index()\n",
    "first_df = first_df.merge(df, how ='left')\n",
    "#first_df.head()"
   ]
  },
  {
   "cell_type": "code",
   "execution_count": null,
   "metadata": {},
   "outputs": [],
   "source": [
    "# Mike's Code"
   ]
  },
  {
   "cell_type": "code",
   "execution_count": null,
   "metadata": {},
   "outputs": [],
   "source": [
    "# Riley's Code"
   ]
  },
  {
   "cell_type": "markdown",
   "metadata": {},
   "source": [
    "## How many videos have gone trending per Category? (Bar Chart)"
   ]
  },
  {
   "cell_type": "code",
   "execution_count": null,
   "metadata": {},
   "outputs": [],
   "source": [
    "# Jackie's Code\n",
    "last_df['Category'].value_counts().sort_values().plot(kind='barh', figsize=(20,18))\n",
    "plt.title(\"Number of trending videos by category\", size=20)\n",
    "plt.show()"
   ]
  },
  {
   "cell_type": "markdown",
   "metadata": {},
   "source": [
    "## Statistical Summary"
   ]
  },
  {
   "cell_type": "code",
   "execution_count": null,
   "metadata": {},
   "outputs": [],
   "source": [
    "last_df.describe()"
   ]
  },
  {
   "cell_type": "markdown",
   "metadata": {},
   "source": [
    "## How do views and dislikes/likes correlate? (Linear Regression)"
   ]
  },
  {
   "cell_type": "code",
   "execution_count": null,
   "metadata": {},
   "outputs": [],
   "source": [
    "## Convert to floats and store views and likes as x and y values\n",
    "x_values = last_df['views'].astype('float')\n",
    "y_values = last_df['dislikes'].astype('float')\n",
    "\n",
    "# Run linear regression\n",
    "(slope, intercept, rvalue, pvalue, stderr) = linregress(x_values, y_values)\n",
    "regress_values = x_values * slope + intercept\n",
    "line_eq = \"y = \" + str(round(slope,2)) + \"x + \" + str(round(intercept,2))\n",
    "\n",
    "# Plot scatter plot\n",
    "plt.scatter(x_values,y_values)\n",
    "\n",
    "# Plot regression line\n",
    "plt.plot(x_values,regress_values,\"r-\")\n",
    "plt.annotate(line_eq,(6,10),fontsize=15,color=\"red\")\n",
    "\n",
    "# Label plot\n",
    "plt.xlabel('Number of Views')\n",
    "plt.ylabel('Number of Dislikes')\n",
    "plt.title(\"Number of Dislikes by View\", size=15)\n",
    "\n",
    "# Print r square value\n",
    "print(f\"R squared: {rvalue**2}\")\n",
    "\n",
    "# Show plot\n",
    "plt.show()"
   ]
  },
  {
   "cell_type": "code",
   "execution_count": null,
   "metadata": {},
   "outputs": [],
   "source": [
    "## Convert to floats and store views and likes as x and y values\n",
    "x_values = last_df['views'].astype('float')\n",
    "y_values = last_df['likes'].astype('float')\n",
    "\n",
    "# Run linear regression\n",
    "(slope, intercept, rvalue, pvalue, stderr) = linregress(x_values, y_values)\n",
    "regress_values = x_values * slope + intercept\n",
    "line_eq = \"y = \" + str(round(slope,2)) + \"x + \" + str(round(intercept,2))\n",
    "\n",
    "# Plot scatter plot\n",
    "plt.scatter(x_values,y_values)\n",
    "\n",
    "# Plot regression line\n",
    "plt.plot(x_values,regress_values,\"r-\")\n",
    "plt.annotate(line_eq,(6,10),fontsize=15,color=\"red\")\n",
    "\n",
    "# Label plot\n",
    "plt.xlabel('Number of Views')\n",
    "plt.ylabel('Number of Likes')\n",
    "plt.title(\"Number of Likes by View\", size=15)\n",
    "\n",
    "# Print r square value\n",
    "print(f\"R squared: {rvalue**2}\")\n",
    "\n",
    "# Show plot\n",
    "plt.show()"
   ]
  },
  {
   "cell_type": "markdown",
   "metadata": {},
   "source": [
    "# Generate the correlation matrix and find the strongest positive and negative correlations"
   ]
  },
  {
   "cell_type": "code",
   "execution_count": null,
   "metadata": {
    "scrolled": true
   },
   "outputs": [],
   "source": [
    "videos_corr = last_df.corr()\n",
    "videos_corr.unstack().sort_values()"
   ]
  },
  {
   "cell_type": "code",
   "execution_count": null,
   "metadata": {},
   "outputs": [],
   "source": [
    "# Brian's Code"
   ]
  },
  {
   "cell_type": "code",
   "execution_count": null,
   "metadata": {},
   "outputs": [],
   "source": [
    "#this is my test cell to merge"
   ]
  }
 ],
 "metadata": {
  "kernelspec": {
   "display_name": "Python 3",
   "language": "python",
   "name": "python3"
  },
  "language_info": {
   "codemirror_mode": {
    "name": "ipython",
    "version": 3
   },
   "file_extension": ".py",
   "mimetype": "text/x-python",
   "name": "python",
   "nbconvert_exporter": "python",
   "pygments_lexer": "ipython3",
   "version": "3.6.10"
  }
 },
 "nbformat": 4,
 "nbformat_minor": 4
}
