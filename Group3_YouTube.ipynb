{
 "cells": [
  {
   "cell_type": "code",
   "execution_count": 2,
   "metadata": {},
   "outputs": [],
   "source": [
    "# Dependencies\n",
    "import json"
   ]
  },
  {
   "cell_type": "code",
   "execution_count": 1,
   "metadata": {},
   "outputs": [],
   "source": [
    "# Mike's code"
   ]
  },
  {
   "cell_type": "code",
   "execution_count": null,
   "metadata": {},
   "outputs": [],
   "source": [
    "# Riley's code"
   ]
  },
  {
   "cell_type": "code",
   "execution_count": 23,
   "metadata": {},
   "outputs": [
    {
     "data": {
      "text/plain": [
       "{'Category ID': ['1',\n",
       "  '2',\n",
       "  '10',\n",
       "  '15',\n",
       "  '17',\n",
       "  '18',\n",
       "  '19',\n",
       "  '20',\n",
       "  '21',\n",
       "  '22',\n",
       "  '23',\n",
       "  '24',\n",
       "  '25',\n",
       "  '26',\n",
       "  '27',\n",
       "  '28',\n",
       "  '29',\n",
       "  '30',\n",
       "  '31',\n",
       "  '32',\n",
       "  '33',\n",
       "  '34',\n",
       "  '35',\n",
       "  '36',\n",
       "  '37',\n",
       "  '38',\n",
       "  '39',\n",
       "  '40',\n",
       "  '41',\n",
       "  '42',\n",
       "  '43',\n",
       "  '44'],\n",
       " 'Category': ['Film & Animation',\n",
       "  'Autos & Vehicles',\n",
       "  'Music',\n",
       "  'Pets & Animals',\n",
       "  'Sports',\n",
       "  'Short Movies',\n",
       "  'Travel & Events',\n",
       "  'Gaming',\n",
       "  'Videoblogging',\n",
       "  'People & Blogs',\n",
       "  'Comedy',\n",
       "  'Entertainment',\n",
       "  'News & Politics',\n",
       "  'Howto & Style',\n",
       "  'Education',\n",
       "  'Science & Technology',\n",
       "  'Nonprofits & Activism',\n",
       "  'Movies',\n",
       "  'Anime/Animation',\n",
       "  'Action/Adventure',\n",
       "  'Classics',\n",
       "  'Comedy',\n",
       "  'Documentary',\n",
       "  'Drama',\n",
       "  'Family',\n",
       "  'Foreign',\n",
       "  'Horror',\n",
       "  'Sci-Fi/Fantasy',\n",
       "  'Thriller',\n",
       "  'Shorts',\n",
       "  'Shows',\n",
       "  'Trailers']}"
      ]
     },
     "execution_count": 23,
     "metadata": {},
     "output_type": "execute_result"
    }
   ],
   "source": [
    "category_json_path = \"Resources/US_category_id.json\"\n",
    "category_dict = {'Category ID': [], 'Category': []}\n",
    "indexer = 0\n",
    "\n",
    "with open(category_json_path) as json_data:\n",
    "  data = json.load(json_data)\n",
    "\n",
    "items = data['items']\n",
    "items\n",
    "\n",
    "for item in items:\n",
    "    \n",
    "    category_dict['Category ID'].append(data['items'][indexer]['id'])\n",
    "    category_dict['Category'].append(data['items'][indexer]['snippet']['title'])\n",
    "    indexer = indexer + 1\n",
    "        \n",
    "category_dict"
   ]
  },
  {
   "cell_type": "code",
   "execution_count": null,
   "metadata": {},
   "outputs": [],
   "source": [
    "# Jackie's code"
   ]
  },
  {
   "cell_type": "code",
   "execution_count": null,
   "metadata": {},
   "outputs": [],
   "source": [
    "# Brian's code"
   ]
  }
 ],
 "metadata": {
  "kernelspec": {
   "display_name": "Python 3",
   "language": "python",
   "name": "python3"
  },
  "language_info": {
   "codemirror_mode": {
    "name": "ipython",
    "version": 3
   },
   "file_extension": ".py",
   "mimetype": "text/x-python",
   "name": "python",
   "nbconvert_exporter": "python",
   "pygments_lexer": "ipython3",
   "version": "3.6.10"
  }
 },
 "nbformat": 4,
 "nbformat_minor": 4
}
