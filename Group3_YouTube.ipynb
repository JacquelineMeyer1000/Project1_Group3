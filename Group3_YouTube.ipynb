{
 "cells": [
  {
   "cell_type": "code",
   "execution_count": null,
   "metadata": {},
   "outputs": [],
   "source": [
    "# Dependencies\n",
    "import json\n",
    "import pandas as pd\n",
    "import numpy as np\n",
    "import matplotlib.pyplot as plt\n",
    "import datetime\n",
    "import scipy.stats as sts"
   ]
  },
  {
   "cell_type": "code",
   "execution_count": null,
   "metadata": {},
   "outputs": [],
   "source": [
    "# read CSV into dataframe \"df\"\n",
    "csv_path = \"Resources/videos.csv\"\n",
    "df = pd.read_csv(csv_path)\n",
    "# df.head(10)"
   ]
  },
  {
   "cell_type": "code",
   "execution_count": null,
   "metadata": {},
   "outputs": [],
   "source": [
    "# DATA CLEAN UP\n",
    "\n",
    "# put publish date and publish time into new columns\n",
    "df[[\"publish date\", \"asdf\"]] = df[\"publish_time\"].str.split(pat=\"T\", n=1, expand=True)\n",
    "\n",
    "\n",
    "df[[\"publish time\", \"trash\"]] = df[\"asdf\"].str.split(pat=\".\", n=1, expand=True)\n",
    "\n",
    "# change publish date into standard \"mm/dd/yyyy\" format\n",
    "df[\"publish date\"] = pd.to_datetime(df[\"publish date\"])\n",
    "df[\"publish_date\"] = df[\"publish date\"].dt.strftime('%m/%d/%Y')\n",
    "\n",
    "# change trending date into standard \"mm/dd/yyyy\" format\n",
    "df[\"trending_date\"]=pd.to_datetime(df[\"trending_date\"].astype(str), format=\"%y.%d.%m\")\n",
    "df[\"trending_date\"] = df[\"trending_date\"].dt.strftime(\"%m/%d/%Y\")"
   ]
  },
  {
   "cell_type": "code",
   "execution_count": null,
   "metadata": {},
   "outputs": [],
   "source": [
    "# along with the CSV, we were given a JSON to translate the category number into the category title\n",
    "# first, read in JSON and create empty dictionary for the for loop\n",
    "category_json_path = \"Resources/US_category_id.json\"\n",
    "category_dict = {'category_id': [], 'Category': []}\n",
    "indexer = 0\n",
    "\n",
    "with open(category_json_path) as json_data:\n",
    "  data = json.load(json_data)\n",
    "\n",
    "items = data['items']\n",
    "# items\n",
    "\n",
    "# adding the category title into new column for each video\n",
    "for item in items:\n",
    "    \n",
    "    category_dict['category_id'].append(data['items'][indexer]['id'])\n",
    "    category_dict['Category'].append(data['items'][indexer]['snippet']['title'])\n",
    "    indexer = indexer + 1"
   ]
  },
  {
   "cell_type": "code",
   "execution_count": null,
   "metadata": {},
   "outputs": [],
   "source": [
    "# merge \"data\" and \"df\" DataFrames to add the category title column to our main dataframe\n",
    "category_df = pd.DataFrame(category_dict)\n",
    "category_df[\"category_id\"] = category_df[\"category_id\"].astype(int)\n",
    "df = df.merge(category_df, how='inner', on='category_id')"
   ]
  },
  {
   "cell_type": "code",
   "execution_count": null,
   "metadata": {},
   "outputs": [],
   "source": [
    "# final clean up step!\n",
    "# include columns that we will work with in the order that makes most sense\n",
    "df = df[[\"video_id\", \"title\", \"channel_title\", \"Category\", \"publish time\", \"publish_date\", \"trending_date\", \"views\", \"likes\", \"dislikes\", \"tags\", \"comments_disabled\"]]\n",
    "df.head()"
   ]
  },
  {
   "cell_type": "code",
   "execution_count": null,
   "metadata": {},
   "outputs": [],
   "source": [
    "# data frame with rows for last trending date\n",
    "# we want this separate data frame where we want the total view count at the last date a video goes trending\n",
    "last_df = df[['video_id', 'trending_date']]\n",
    "last_df = last_df.groupby('video_id').max()\n",
    "last_df = last_df.reset_index()\n",
    "last_df = last_df.merge(df, how ='left')\n",
    "# last_df.head()"
   ]
  },
  {
   "cell_type": "code",
   "execution_count": null,
   "metadata": {},
   "outputs": [],
   "source": [
    "# data frame with rows for first trending date\n",
    "# we want this separate data frame for calculating the time between publish date and first trending date\n",
    "first_df = df[['video_id', 'trending_date']]\n",
    "first_df = first_df.groupby('video_id').min()\n",
    "first_df = first_df.reset_index()\n",
    "first_df = first_df.merge(df, how ='left')\n",
    "# first_df.head()"
   ]
  },
  {
   "cell_type": "code",
   "execution_count": null,
   "metadata": {},
   "outputs": [],
   "source": [
    "# Mike's Code"
   ]
  },
  {
   "cell_type": "code",
   "execution_count": null,
   "metadata": {},
   "outputs": [],
   "source": [
    "# popular tags on YouTube videos\n",
    "\n",
    "# need to split the tags for each video and put into a new DataFrame in order to graph the bar chart\n",
    "# empty lists to store video_id & tags within for loops below\n",
    "tags_ = []\n",
    "ids = []\n",
    "\n",
    "# put tags into new list, split on \"|\"\n",
    "for _, row in first_df.iterrows():\n",
    "    current_tags = row[\"tags\"].split(\"|\")\n",
    "    \n",
    "    # for every video, all tags except the first one have quotation marks\n",
    "    # remove quotes by slicing the first and last character of each entry, starting with the 2nd one (index=1)\n",
    "    for i in range(1, len(current_tags)):\n",
    "        current_tags[i] = current_tags[i][1:-1]\n",
    "    \n",
    "    # push the clean entries into each list\n",
    "    for tag in current_tags:\n",
    "        tags_.append(tag)\n",
    "        ids.append(row[\"video_id\"])\n",
    "\n",
    "# create new dataframe with the clean entries, using video_id as the index\n",
    "video_tags = pd.DataFrame({\"video_id\": ids, \"tags\": tags_})\n",

    "\n",
    "# count of unique tags for YouTube videos in this timeframe\n",
    "video_tags[\"tags\"].nunique()\n",
    "\n",
    "# plotting the bar chart\n",
    "# first groupby \"tags\" so we can count each time a tag is used\n",
    "video_group = video_tags.groupby(\"tags\")\n",
    "tags_count = video_group[\"tags\"].count()\n",
    "\n",
    "# sort the tags by count and save the top 20 tags into series, covert into datafram for plotting\n",
    "top_20_tags = tags_count.sort_values().tail(20)\n",
    "top_20_tags = pd.DataFrame(top_20_tags)\n",
    "\n",
    "# plot the bar chart and customize output for easy viewing\n",
    "fig = top_20_tags.plot(kind=\"bar\", legend=False, figsize=(15,8), fontsize=14)\n",
    "fig.set_ylabel(\"Count\", fontsize=20)\n",
    "fig.set_xlabel(\"Video Tags\", fontsize=20)\n",
    "fig.set_title(\"Top 20 Popular Tags\", fontsize=20)"
   ]
  },
  {
   "cell_type": "code",
   "execution_count": null,
   "metadata": {},
   "outputs": [],
   "source": [
    "## Mike's Code"
   ]
  },
  {
   "cell_type": "code",
   "execution_count": null,
   "metadata": {},
   "outputs": [],
   "source": [
    "# Riley's Code"
   ]
  },
  {
   "cell_type": "code",
   "execution_count": null,
   "metadata": {},
   "outputs": [],
   "source": [
    "# Data Visualization #2: Videos trending by publish time\n",
    "\n",
    "# Split the Publish time column by the hour, convert to integer\n",
    "publish_df = last_df\n",
    "publish_df[[\"publish_hour\", \"publish_min_sec\"]] = publish_df[\"publish time\"].str.split(\":\", n=1, expand=True)\n",
    "publish_df['publish_hour'] = publish_df['publish_hour'].astype(int)\n",
    "\n",
    "# New DF grouped by the publish hour\n",
    "publish_group_df = publish_df.groupby('publish_hour').count()\n",
    "publish_group_df = publish_group_df['video_id']\n",
    "\n",
    "\n",
    "# Plot number of trending videos by publish time\n",
    "publish_group_df.plot(kind='bar', rot = 0)\n",
    "plt.xlabel('Time of Publish (h)')\n",
    "plt.ylabel('# of Trending Videos')\n",
    "plt.title('Youtube Trending Videos vs Publish Time')\n",
    "plt.show()"
   ]
  },
  {
   "cell_type": "code",
   "execution_count": null,
   "metadata": {},
   "outputs": [],
   "source": [
    "# Data visualization #7: How long does it take videos to go \"trending\"?\n",
    "\n",
    "# Creating a summary table for time to trend\n",
    "trend_df = first_df\n",
    "\n",
    "# Convert date strings to datetime type\n",
    "trend_df['trending_date'] = pd.to_datetime(trend_df['trending_date'])\n",
    "trend_df['publish_date'] = pd.to_datetime(trend_df['publish_date'])\n",
    "\n",
    "# Calculate days it took the video to trend, put in column\n",
    "trend_df['Days to Trend'] = trend_df['trending_date'] - trend_df['publish_date']\n",
    "\n",
    "# Find the maximum of the dataset\n",
    "max_trend = str(trend_df['Days to Trend'].max())\n",
    "max_trend_list = max_trend.split(' ')\n",
    "max_trend_video = trend_df.iloc[trend_df['Days to Trend'].idxmax(),2]\n",
    "\n",
    "# Find the minimum of the dataset\n",
    "min_trend = str(trend_df['Days to Trend'].min())\n",
    "min_trend_list = min_trend.split(' ')\n",
    "\n",
    "# Find the mean of the dataset\n",
    "mean_trend = str(trend_df['Days to Trend'].mean().round('d'))\n",
    "mean_trend_list = mean_trend.split(' ')\n",
    "\n",
    "# Find the median of the dataset\n",
    "med_trend = str(trend_df['Days to Trend'].median())\n",
    "med_trend_list = med_trend.split(' ')\n",
    "\n",
    "# Find the standard deviation of the dataset\n",
    "std_trend = str(trend_df['Days to Trend'].std().round('d'))\n",
    "std_trend_list = std_trend.split(' ')\n",
    "\n",
    "# Put summary stats into DataFrame\n",
    "trending_summary_df = pd.DataFrame({'':['Maximum', 'Minimum', 'Mean', 'Median', 'Standard Deviation'],\n",
    "                                    'Days': [max_trend_list[0], min_trend_list[0], mean_trend_list[0], med_trend_list[0], std_trend_list[0]]\n",
    "                                   })\n",
    "\n",
    "# Convert 'Days to Trend' column from timedelta to integer \n",
    "trend_df['Days to Trend'] = (trend_df['Days to Trend'] / np.timedelta64(1, 'D')).astype(int)\n",
    "\n",
    "# Create boxplot showing days to trend\n",
    "plt.boxplot(trend_df['Days to Trend'], showfliers=False)\n",
    "plt.ylabel('Number of Days')\n",
    "plt.title('Number of Days for Youtube Videos to go \"Trending\"')\n",
    "plt.show()\n",
    "\n",
    "# Print string about longest video\n",
    "print(f'The longest a video has been on Youtube before it hit the \"Trending\" page, was \\033[1m {max_trend_video} \\033[0m at {max_trend_list[0]} days!')\n",
    "print(f'That is over \\033[1m11 years!\\033[0m')\n",
    "\n",
    "# Show summary table\n",
    "trending_summary_df"
   ]
  },
  {
   "cell_type": "code",
   "execution_count": null,
   "metadata": {},
   "outputs": [],
   "source": [
    "## Riley's Code"
   ]
  },
  {
   "cell_type": "code",
   "execution_count": null,
   "metadata": {},
   "outputs": [],
   "source": [
    "## Jackie's Code"
   ]
  },
  {
   "cell_type": "code",
   "execution_count": null,
   "metadata": {},
   "outputs": [],
   "source": [
    "## VISUALIZATION 3: How many videos have gone trending per Category? (Bar Chart)\n",
    "last_df['Category'].value_counts().sort_values().plot(kind='barh', figsize=(10,7))\n",
    "plt.title(\"Number of trending videos by category\", size=15)\n",
    "plt.show()\n",
    "\n",
    "# Count number of trending videos in each category\n",
    "category_count = last_df['Category'].value_counts(sort=True, ascending=False)\n",
    "category_count"
   ]
  },
  {
   "cell_type": "code",
   "execution_count": null,
   "metadata": {},
   "outputs": [],
   "source": [
    "## VISUALIZATION 1: How do views and dis/likes correlate? (Linear Regression)\n",
    "# Define function for creating linear regression and scatter plot\n",
    "from scipy.stats import linregress\n",
    "import scipy.stats as st\n",
    "import seaborn as sns\n",
    "\n",
    "# Plot number of likes to views\n",
    "x_values = last_df[\"views\"]\n",
    "y_values = last_df[\"likes\"]\n",
    "\n",
    "(slope, intercept, rvalue, pvalue, stderr) = st.linregress(x_values, y_values)\n",
    "regress_values = x_values * slope + intercept\n",
    "\n",
    "line_eq = \"y = \" + str(round(slope,2)) + \"x + \" + str(round(intercept,2))\n",
    "\n",
    "plt.scatter(x_values, y_values)\n",
    "plt.plot(x_values, regress_values, \"r-\")\n",
    "plt.annotate(line_eq,(1.5, 2), color='red', fontsize=14)\n",
    "plt.xlabel(\"Views\")\n",
    "plt.ylabel(\"Likes\")\n",
    "plt.show()\n",
    "print(f\"Correlation between these two variables is {round(rvalue,2)}\")\n",
    "--------------------------------------------------------------------------------------------------------------------------------\n",
    "## VISUALIZATION 1: How do views and dis/likes correlate? (Linear Regression)\n",
    "# Plot number of dislikes to views\n",
    "x_values = last_df[\"views\"]\n",
    "y_values = last_df[\"dislikes\"]\n",
    "\n",
    "(slope, intercept, rvalue, pvalue, stderr) = st.linregress(x_values, y_values)\n",
    "regress_values = x_values * slope + intercept\n",
    "\n",
    "line_eq = \"y = \" + str(round(slope,2)) + \"x + \" + str(round(intercept,2))\n",
    "\n",
    "plt.scatter(x_values, y_values)\n",
    "plt.plot(x_values, regress_values, \"r-\")\n",
    "plt.annotate(line_eq,(0, 0), color='red', fontsize=14)\n",
    "plt.xlabel(\"Views\")\n",
    "plt.ylabel(\"Dislikes\")\n",
    "plt.show()\n",
    "print(f\"Correlation between these two variables is {round(rvalue,2)}\")\n",
    "--------------------------------------------------------------------------------------------------------------------------------\n",
    "## VISUALIZATION 1: How do views and dislikes correlate? (correlation matrix)\n",
    "heatmap_columns = ['views', 'likes', 'dislikes']\n",
    "h_labels = ['Views', 'Likes', 'Dislikes']\n",
    "fig, ax = plt.subplots(figsize=(14,8))\n",
    "sns.heatmap(last_df[heatmap_columns].corr(), annot=True, xticklabels=h_labels, yticklabels=h_labels)\n",
    "\n",
    "plt.tight_layout()"
   ]
  },
  {
   "cell_type": "code",
   "execution_count": null,
   "metadata": {},
   "outputs": [],
   "source": [
    "## Jackie's Code"
   ]
  },
  {
   "cell_type": "code",
   "execution_count": null,
   "metadata": {},
   "outputs": [],
   "source": [
    "# Brian's Code"
   ]
  },
  {
   "cell_type": "code",
   "execution_count": null,
   "metadata": {},
   "outputs": [],
   "source": [
    "# Generate a bar plot showing the top 20 youtube channels with most trending videos.\n",
    "\n",
    "# groupby video_id using count and channel_title\n",
    "vids_per_title_df = last_df[[\"video_id\", \"channel_title\"]]\n",
    "# vids_per_title_df.head()"
   ]
  },
  {
   "cell_type": "code",
   "execution_count": null,
   "metadata": {},
   "outputs": [],
   "source": [
    "vids_per_title_df = vids_per_title_df.groupby(\"channel_title\").count()\n",
    "# len(vids_per_title_df)\n",
    "vids_per_title_df.head()"
   ]
  },
  {
   "cell_type": "code",
   "execution_count": null,
   "metadata": {},
   "outputs": [],
   "source": [
    "vids_per_title_df = vids_per_title_df.sort_values(by = 'video_id', ascending = False)\n",
    "# vids_per_title_df.head()\n",
    "\n",
    "# plot a bar chart\n",
    "# vids_per_title_df.head(20).plot(kind=\"bar\", figsize=(12,8), color = \"b\", legend=False)\n",
    "vids_per_title_df.head(20).plot(kind=\"bar\", figsize=(12,8), color = [plt.cm.Paired(np.arange(len(vids_per_title_df)))], legend=False)\n",
    "\n",
    "# title\n",
    "plt.title(\"Top Twenty YouTube Channels With Most Trending Videos\")\n",
    "plt.xticks(rotation=45, horizontalalignment=\"right\")\n",
    "plt.xlabel(\"YouTube Channels\")\n",
    "plt.ylabel(\"Number of Trending Videos\")\n",
    "\n",
    "plt.show()\n",
    "plt.tight_layout()"
   ]
  },
  {
   "cell_type": "code",
   "execution_count": null,
   "metadata": {},
   "outputs": [],
   "source": [
    "#Create 2 boxplots comparing the results of average Youtube video views with comments disabled and comments enabled.\n",
    "\n",
    "comments_off_df = last_df.loc[last_df[\"comments_disabled\"] == True, [\"views\", \"comments_disabled\"]]\n",
    "# comments_off_df\n",
    "\n",
    "comments_on_df = last_df.loc[last_df[\"comments_disabled\"] == False, [\"views\", \"comments_disabled\"]]\n",
    "# comments_on_df\n",
    "\n",
    "fig1, ax1 = plt.subplots()\n",
    "ax1.boxplot([comments_off_df['views'], comments_on_df['views']], showfliers = False)\n",
    "\n",
    "# title and labels\n",
    "plt.title('AVG VIEWS WITH COMMENTS DISABLED VS. ENABLED')\n",
    "plt.ylabel('AVG VIEWS')\n",
    "plt.xticks([1, 2], [\"Comments Disabled\",\"Comments Enabled\"])\n",
    "\n",
    "plt.show()"
   ]
  },
  {
   "cell_type": "code",
   "execution_count": null,
   "metadata": {},
   "outputs": [],
   "source": [
    "## Brian's code"
   ]
  }
 ],
 "metadata": {
  "kernelspec": {
   "display_name": "Python 3",
   "language": "python",
   "name": "python3"
  },
  "language_info": {
   "codemirror_mode": {
    "name": "ipython",
    "version": 3
   },
   "file_extension": ".py",
   "mimetype": "text/x-python",
   "name": "python",
   "nbconvert_exporter": "python",
   "pygments_lexer": "ipython3",
   "version": "3.6.10"
  }
 },
 "nbformat": 4,
 "nbformat_minor": 4
}
