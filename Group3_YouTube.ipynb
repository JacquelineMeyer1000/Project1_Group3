{
 "cells": [
  {
   "cell_type": "code",
   "execution_count": null,
   "metadata": {},
   "outputs": [],
   "source": [
    "# Dependencies\n",
    "import json\n",
    "import pandas as pd\n",
    "import numpy as np\n",
    "import matplotlib.pyplot as plt\n",
    "import datetime\n",
    "import scipy.stats as sts"
   ]
  },
  {
   "cell_type": "code",
   "execution_count": null,
   "metadata": {},
   "outputs": [],
   "source": [
    "csv_path = \"Resources/videos.csv\"\n",
    "df = pd.read_csv(csv_path)\n",
    "# df.head(10)"
   ]
  },
  {
   "cell_type": "code",
   "execution_count": null,
   "metadata": {},
   "outputs": [],
   "source": [
    "# clean up data before creating dataframe for calculations\n",
    "df_path = \"Resources/videos.csv\"\n",
    "df = pd.read_csv(df_path)\n",
    "\n",
    "df[[\"publish date\", \"asdf\"]] = df[\"publish_time\"].str.split(pat=\"T\", n=1, expand=True)\n",
    "\n",
    "\n",
    "df[[\"publish time\", \"trash\"]] = df[\"asdf\"].str.split(pat=\".\", n=1, expand=True)\n",
    "\n",
    "\n",
    "df[\"publish date\"] = pd.to_datetime(df[\"publish date\"])\n",
    "df[\"publish_date\"] = df[\"publish date\"].dt.strftime('%m/%d/%Y')\n",
    "\n",
    "\n",
    "category_json_path = \"Resources/US_category_id.json\"\n",
    "category_dict = {'category_id': [], 'Category': []}\n",
    "indexer = 0\n",
    "\n",
    "with open(category_json_path) as json_data:\n",
    "  data = json.load(json_data)\n",
    "\n",
    "items = data['items']\n",
    "# items\n",
    "\n",
    "for item in items:\n",
    "    \n",
    "    category_dict['category_id'].append(data['items'][indexer]['id'])\n",
    "    category_dict['Category'].append(data['items'][indexer]['snippet']['title'])\n",
    "    indexer = indexer + 1\n",
    "        \n",
    "\n",
    "\n",
    "category_df = pd.DataFrame(category_dict)\n",
    "category_df[\"category_id\"] = category_df[\"category_id\"].astype(int)\n",
    "df = df.merge(category_df, how='inner', on='category_id')\n",
    "\n",
    "\n",
    "\n",
    "df[\"trending_date\"]=pd.to_datetime(df[\"trending_date\"].astype(str), format=\"%y.%d.%m\")\n",
    "df[\"trending_date\"] = df[\"trending_date\"].dt.strftime(\"%m/%d/%Y\")\n",
    "# df.head()"
   ]
  },
  {
   "cell_type": "code",
   "execution_count": null,
   "metadata": {},
   "outputs": [],
   "source": [
    "# clean up data frame for only columns we want to work with\n",
    "df = df[[\"video_id\", \"title\", \"channel_title\", \"Category\", \"publish time\", \"publish_date\", \"trending_date\", \"views\", \"likes\", \"dislikes\", \"tags\", \"comments_disabled\"]]\n",
    "# df.head()"
   ]
  },
  {
   "cell_type": "code",
   "execution_count": null,
   "metadata": {},
   "outputs": [],
   "source": [
    "# data frame with rows for last trending date\n",
    "last_df = df[['video_id', 'trending_date']]\n",
    "last_df = last_df.groupby('video_id').max()\n",
    "last_df = last_df.reset_index()\n",
    "last_df = last_df.merge(df, how ='left')\n",
    "last_df.head()"
   ]
  },
  {
   "cell_type": "code",
   "execution_count": null,
   "metadata": {},
   "outputs": [],
   "source": [
    "# data frame with rows for first trending date\n",
    "first_df = df[['video_id', 'trending_date']]\n",
    "first_df = first_df.groupby('video_id').min()\n",
    "first_df = first_df.reset_index()\n",
    "first_df = first_df.merge(df, how ='left')\n",
    "# first_df.head()"
   ]
  },
  {
   "cell_type": "code",
   "execution_count": null,
   "metadata": {},
   "outputs": [],
   "source": [
    "# Mike's Code\n",
    "\n",
    "# VISUALIZATION 5: popular tags on YouTube videos\n",
    "\n",
    "# need to split the tags for each video into a new DataFrame in order to graph the bar chart\n",
    "# empty lists to store video_id & tags within for loops below\n",
    "tags_ = []\n",
    "ids = []\n",
    "\n",
    "# put tags into new list, split on \"|\"\n",
    "for _, row in first_df.iterrows():\n",
    "    current_tags = row[\"tags\"].split(\"|\")\n",
    "    \n",
    "    # for every video, all tags except the first one have quotation marks\n",
    "    # remove quotes by slicing the first and last character of each entry, starting with the 2nd one (index=1)\n",
    "    for i in range(1, len(current_tags)):\n",
    "        current_tags[i] = current_tags[i][1:-1]\n",
    "    \n",
    "    # push the clean entries into each list\n",
    "    for tag in current_tags:\n",
    "        tags_.append(tag)\n",
    "        ids.append(row[\"video_id\"])\n",
    "\n",
    "# create new dataframe with the clean entries, using video_id as the index\n",
    "video_tags = pd.DataFrame({\"video_id\": ids, \"tags\": tags_})\n",
    "# video_tags"
   ]
  },
  {
   "cell_type": "code",
   "execution_count": null,
   "metadata": {},
   "outputs": [],
   "source": [
    "video_tags[\"tags\"].nunique()"
   ]
  },
  {
   "cell_type": "code",
   "execution_count": null,
   "metadata": {},
   "outputs": [],
   "source": [
    "## Mike's Code"
   ]
  },
  {
   "cell_type": "code",
   "execution_count": null,
   "metadata": {},
   "outputs": [],
   "source": [
    "# Riley's Code"
   ]
  },
  {
   "cell_type": "code",
   "execution_count": null,
   "metadata": {},
   "outputs": [],
   "source": [
    "# Split the Publish time column by the hour, convert to integer\n",
    "\n",
    "publish_df = last_df\n",
    "publish_df[[\"publish_hour\", \"publish_min_sec\"]] = publish_df[\"publish time\"].str.split(\":\", n=1, expand=True)\n",
    "publish_df['publish_hour'] = publish_df['publish_hour'].astype(int)\n",
    "# publish_df.head()\n",
    "\n",
    "# New DF grouped by the publish hour\n",
    "\n",
    "publish_group_df = publish_df.groupby('publish_hour').count()\n",
    "publish_group_df = publish_group_df['video_id']\n",
    "# publish_group_df"
   ]
  },
  {
   "cell_type": "code",
   "execution_count": null,
   "metadata": {},
   "outputs": [],
   "source": [
    "# Plot # of trending videos by publish time\n",
    "\n",
    "publish_group_df.plot(kind='bar', rot = 0)\n",
    "\n",
    "plt.xlabel('Time of Publish (h)')\n",
    "plt.ylabel('# of Trending Videos')\n",
    "plt.title('Youtube Trending Videos vs Publish Time')\n",
    "plt.show()\n",
    "\n",
    "trend_df = first_df\n",
    "trend_df['trending_date'] = pd.to_datetime(trend_df['trending_date'])\n",
    "trend_df['publish_date'] = pd.to_datetime(trend_df['publish_date'])\n",
    "trend_df['Days to Trend'] = trend_df['trending_date'] - trend_df['publish_date']\n",
    "max_trend = trend_df['Days to Trend'].max()\n",
    "min_trend = trend_df['Days to Trend'].min()\n",
    "mean_trend = trend_df['Days to Trend'].mean()\n",
    "med_trend = trend_df['Days to Trend'].median()\n",
    "\n",
    "print(max_trend)\n",
    "print(min_trend)\n",
    "print(mean_trend)\n",
    "print(med_trend)\n",
    "\n",
    "plt.boxplot()\n",
    "# I should add a box plot of days to go trending."
   ]
  },
  {
   "cell_type": "code",
   "execution_count": null,
   "metadata": {},
   "outputs": [],
   "source": [
    "## Riley's Code"
   ]
  },
  {
   "cell_type": "code",
   "execution_count": null,
   "metadata": {},
   "outputs": [],
   "source": [
    "# Jackie's Code\n",
    "\n",
    "## How many videos have gone trending per Category? (Bar Chart)\n",
    "last_df['Category'].value_counts().sort_values().plot(kind='barh', figsize=(20,18))\n",
    "plt.title(\"Number of trending videos by category\", size=20)\n",
    "plt.show()\n",
    "\n",
    "## Statistical Summary\n",
    "last_df.describe()"
   ]
  },
  {
   "cell_type": "code",
   "execution_count": null,
   "metadata": {},
   "outputs": [],
   "source": [
    "## Convert to floats and store views and likes as x and y values\n",
    "x_values = last_df['views'].astype('float')\n",
    "y_values = last_df['dislikes'].astype('float')\n",
    "\n",
    "# Run linear regression\n",
    "(slope, intercept, rvalue, pvalue, stderr) = linregress(x_values, y_values)\n",
    "regress_values = x_values * slope + intercept\n",
    "line_eq = \"y = \" + str(round(slope,2)) + \"x + \" + str(round(intercept,2))\n",
    "\n",
    "# Plot scatter plot\n",
    "plt.scatter(x_values,y_values)\n",
    "\n",
    "# Plot regression line\n",
    "plt.plot(x_values,regress_values,\"r-\")\n",
    "plt.annotate(line_eq,(6,10),fontsize=15,color=\"red\")\n",
    "\n",
    "# Label plot\n",
    "plt.xlabel('Number of Views')\n",
    "plt.ylabel('Number of Dislikes')\n",
    "plt.title(\"Number of Dislikes by View\", size=15)\n",
    "\n",
    "# Print r square value\n",
    "print(f\"R squared: {rvalue**2}\")\n",
    "\n",
    "# Show plot\n",
    "plt.show()"
   ]
  },
  {
   "cell_type": "code",
   "execution_count": null,
   "metadata": {},
   "outputs": [],
   "source": [
    "## Convert to floats and store views and likes as x and y values\n",
    "x_values = last_df['views'].astype('float')\n",
    "y_values = last_df['likes'].astype('float')\n",
    "\n",
    "# Run linear regression\n",
    "(slope, intercept, rvalue, pvalue, stderr) = sts.linregress(x_values, y_values)\n",
    "regress_values = x_values * slope + intercept\n",
    "line_eq = \"y = \" + str(round(slope,2)) + \"x + \" + str(round(intercept,2))\n",
    "\n",
    "# Plot scatter plot\n",
    "plt.scatter(x_values,y_values)\n",
    "\n",
    "# Plot regression line\n",
    "plt.plot(x_values,regress_values,\"r-\")\n",
    "plt.annotate(line_eq,(6,10),fontsize=15,color=\"red\")\n",
    "\n",
    "# Label plot\n",
    "plt.xlabel('Number of Views')\n",
    "plt.ylabel('Number of Likes')\n",
    "plt.title(\"Number of Likes by View\", size=15)\n",
    "\n",
    "# Print r square value\n",
    "print(f\"R squared: {rvalue**2}\")\n",
    "\n",
    "# Show plot\n",
    "plt.show()\n",
    "\n",
    "# Generate the correlation matrix and find the strongest positive and negative correlations\n",
    "videos_corr = last_df.corr()\n",
    "videos_corr.unstack().sort_values()\n",
    "\n"
   ]
  },
  {
   "cell_type": "code",
   "execution_count": null,
   "metadata": {},
   "outputs": [],
   "source": [
    "## Jackie's Code"
   ]
  },
  {
   "cell_type": "code",
   "execution_count": null,
   "metadata": {},
   "outputs": [],
   "source": [
    "# Brian's Code"
   ]
  },
  {
   "cell_type": "code",
   "execution_count": null,
   "metadata": {},
   "outputs": [],
   "source": [
    "# Generate a bar plot showing the top 20 youtube channels with most trending videos.\n",
    "\n",
    "# groupby video_id using count and channel_title\n",
    "vids_per_title_df = last_df[[\"video_id\", \"channel_title\"]]\n",
    "# vids_per_title_df.head()"
   ]
  },
  {
   "cell_type": "code",
   "execution_count": null,
   "metadata": {},
   "outputs": [],
   "source": [
    "vids_per_title_df = vids_per_title_df.groupby(\"channel_title\").count()\n",
    "# len(vids_per_title_df)\n",
    "vids_per_title_df.head()"
   ]
  },
  {
   "cell_type": "code",
   "execution_count": null,
   "metadata": {},
   "outputs": [],
   "source": [
    "vids_per_title_df = vids_per_title_df.sort_values(by = 'video_id', ascending = False)\n",
    "# vids_per_title_df.head()\n",
    "\n",
    "# plot a bar chart\n",
    "# vids_per_title_df.head(20).plot(kind=\"bar\", figsize=(12,8), color = \"b\", legend=False)\n",
    "vids_per_title_df.head(20).plot(kind=\"bar\", figsize=(12,8), color = [plt.cm.Paired(np.arange(len(vids_per_title_df)))], legend=False)\n",
    "\n",
    "# title\n",
    "plt.title(\"Top Twenty YouTube Channels With Most Trending Videos\")\n",
    "plt.xticks(rotation=45, horizontalalignment=\"right\")\n",
    "plt.xlabel(\"YouTube Channels\")\n",
    "plt.ylabel(\"Number of Trending Videos\")\n",
    "\n",
    "plt.show()\n",
    "plt.tight_layout()"
   ]
  },
  {
   "cell_type": "code",
   "execution_count": null,
   "metadata": {},
   "outputs": [],
   "source": [
    "#Create 2 boxplots comparing the results of average Youtube video views with comments disabled and comments enabled.\n",
    "\n",
    "comments_off_df = last_df.loc[last_df[\"comments_disabled\"] == True, [\"views\", \"comments_disabled\"]]\n",
    "# comments_off_df\n",
    "\n",
    "comments_on_df = last_df.loc[last_df[\"comments_disabled\"] == False, [\"views\", \"comments_disabled\"]]\n",
    "# comments_on_df\n",
    "\n",
    "fig1, ax1 = plt.subplots()\n",
    "ax1.boxplot([comments_off_df['views'], comments_on_df['views']], showfliers = False)\n",
    "\n",
    "# title and labels\n",
    "plt.title('AVG VIEWS WITH COMMENTS DISABLED VS. ENABLED')\n",
    "plt.ylabel('AVG VIEWS')\n",
    "plt.xticks([1, 2], [\"Comments Disabled\",\"Comments Enabled\"])\n",
    "\n",
    "plt.show()"
   ]
  },
  {
   "cell_type": "code",
   "execution_count": null,
   "metadata": {},
   "outputs": [],
   "source": [
    "## Brian's code"
   ]
  }
 ],
 "metadata": {
  "kernelspec": {
   "display_name": "Python 3",
   "language": "python",
   "name": "python3"
  },
  "language_info": {
   "codemirror_mode": {
    "name": "ipython",
    "version": 3
   },
   "file_extension": ".py",
   "mimetype": "text/x-python",
   "name": "python",
   "nbconvert_exporter": "python",
   "pygments_lexer": "ipython3",
   "version": "3.6.10"
  }
 },
 "nbformat": 4,
 "nbformat_minor": 4
}
