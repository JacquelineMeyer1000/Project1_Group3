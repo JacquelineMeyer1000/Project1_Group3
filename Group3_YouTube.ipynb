{
 "cells": [
  {
   "cell_type": "code",
   "execution_count": 1,
   "metadata": {},
   "outputs": [],
   "source": [
    "# Dependencies\n",
    "import json\n",
    "import pandas as pd\n",
    "import numpy as np\n",
    "import matplotlib.pyplot as plt\n",
    "import datetime\n",
    "from scipy.stats import linregress\n",
    "import seaborn as sns\n",
    "from scipy import stats"
   ]
  },
  {
   "cell_type": "code",
   "execution_count": 2,
   "metadata": {},
   "outputs": [],
   "source": [
    "csv_path = \"Resources/videos.csv\"\n",
    "df = pd.read_csv(csv_path)\n",
    "# df.head(10)"
   ]
  },
  {
   "cell_type": "code",
   "execution_count": 3,
   "metadata": {},
   "outputs": [],
   "source": [
    "# clean up data before creating dataframe for calculations\n",
    "df_path = \"Resources/videos.csv\"\n",
    "df = pd.read_csv(df_path)\n",
    "\n",
    "df[[\"publish date\", \"asdf\"]] = df[\"publish_time\"].str.split(pat=\"T\", n=1, expand=True)\n",
    "\n",
    "\n",
    "df[[\"publish time\", \"trash\"]] = df[\"asdf\"].str.split(pat=\".\", n=1, expand=True)\n",
    "\n",
    "\n",
    "df[\"publish date\"] = pd.to_datetime(df[\"publish date\"])\n",
    "df[\"publish_date\"] = df[\"publish date\"].dt.strftime('%m/%d/%Y')\n",
    "\n",
    "\n",
    "category_json_path = \"Resources/US_category_id.json\"\n",
    "category_dict = {'category_id': [], 'Category': []}\n",
    "indexer = 0\n",
    "\n",
    "with open(category_json_path) as json_data:\n",
    "  data = json.load(json_data)\n",
    "\n",
    "items = data['items']\n",
    "# items\n",
    "\n",
    "for item in items:\n",
    "    \n",
    "    category_dict['category_id'].append(data['items'][indexer]['id'])\n",
    "    category_dict['Category'].append(data['items'][indexer]['snippet']['title'])\n",
    "    indexer = indexer + 1\n",
    "        \n",
    "\n",
    "\n",
    "category_df = pd.DataFrame(category_dict)\n",
    "category_df[\"category_id\"] = category_df[\"category_id\"].astype(int)\n",
    "df = df.merge(category_df, how='inner', on='category_id')\n",
    "\n",
    "\n",
    "\n",
    "df[\"trending_date\"]=pd.to_datetime(df[\"trending_date\"].astype(str), format=\"%y.%d.%m\")\n",
    "df[\"trending_date\"] = df[\"trending_date\"].dt.strftime(\"%m/%d/%Y\")\n",
    "# df.head()"
   ]
  },
  {
   "cell_type": "code",
   "execution_count": 4,
   "metadata": {},
   "outputs": [],
   "source": [
    "# clean up data frame for only columns we want to work with\n",
    "df = df[[\"video_id\", \"title\", \"channel_title\", \"Category\", \"publish time\", \"publish_date\", \"trending_date\", \"views\", \"likes\", \"dislikes\", \"tags\", \"comments_disabled\"]]\n",
    "# df.head()"
   ]
  },
  {
   "cell_type": "code",
   "execution_count": 5,
   "metadata": {},
   "outputs": [
    {
     "data": {
      "text/html": [
       "<div>\n",
       "<style scoped>\n",
       "    .dataframe tbody tr th:only-of-type {\n",
       "        vertical-align: middle;\n",
       "    }\n",
       "\n",
       "    .dataframe tbody tr th {\n",
       "        vertical-align: top;\n",
       "    }\n",
       "\n",
       "    .dataframe thead th {\n",
       "        text-align: right;\n",
       "    }\n",
       "</style>\n",
       "<table border=\"1\" class=\"dataframe\">\n",
       "  <thead>\n",
       "    <tr style=\"text-align: right;\">\n",
       "      <th></th>\n",
       "      <th>video_id</th>\n",
       "      <th>trending_date</th>\n",
       "      <th>title</th>\n",
       "      <th>channel_title</th>\n",
       "      <th>Category</th>\n",
       "      <th>publish time</th>\n",
       "      <th>publish_date</th>\n",
       "      <th>views</th>\n",
       "      <th>likes</th>\n",
       "      <th>dislikes</th>\n",
       "      <th>tags</th>\n",
       "      <th>comments_disabled</th>\n",
       "    </tr>\n",
       "  </thead>\n",
       "  <tbody>\n",
       "    <tr>\n",
       "      <th>0</th>\n",
       "      <td>-0CMnp02rNY</td>\n",
       "      <td>06/11/2018</td>\n",
       "      <td>Mindy Kaling's Daughter Had the Perfect Reacti...</td>\n",
       "      <td>TheEllenShow</td>\n",
       "      <td>Entertainment</td>\n",
       "      <td>13:00:00</td>\n",
       "      <td>06/04/2018</td>\n",
       "      <td>800359</td>\n",
       "      <td>9773</td>\n",
       "      <td>332</td>\n",
       "      <td>ellen|\"ellen degeneres\"|\"the ellen show\"|\"elle...</td>\n",
       "      <td>False</td>\n",
       "    </tr>\n",
       "    <tr>\n",
       "      <th>1</th>\n",
       "      <td>-0NYY8cqdiQ</td>\n",
       "      <td>02/01/2018</td>\n",
       "      <td>Megan Mullally Didn't Notice the Interesting P...</td>\n",
       "      <td>TheEllenShow</td>\n",
       "      <td>Entertainment</td>\n",
       "      <td>14:00:39</td>\n",
       "      <td>01/29/2018</td>\n",
       "      <td>563746</td>\n",
       "      <td>4429</td>\n",
       "      <td>54</td>\n",
       "      <td>megan mullally|\"megan\"|\"mullally\"|\"will and gr...</td>\n",
       "      <td>False</td>\n",
       "    </tr>\n",
       "    <tr>\n",
       "      <th>2</th>\n",
       "      <td>-1Hm41N0dUs</td>\n",
       "      <td>05/01/2018</td>\n",
       "      <td>Cast of Avengers: Infinity War Draws Their Cha...</td>\n",
       "      <td>Jimmy Kimmel Live</td>\n",
       "      <td>Comedy</td>\n",
       "      <td>07:30:02</td>\n",
       "      <td>04/27/2018</td>\n",
       "      <td>2058516</td>\n",
       "      <td>41248</td>\n",
       "      <td>580</td>\n",
       "      <td>jimmy|\"jimmy kimmel\"|\"jimmy kimmel live\"|\"late...</td>\n",
       "      <td>False</td>\n",
       "    </tr>\n",
       "    <tr>\n",
       "      <th>3</th>\n",
       "      <td>-1yT-K3c6YI</td>\n",
       "      <td>12/02/2017</td>\n",
       "      <td>YOUTUBER QUIZ + TRUTH OR DARE W/ THE MERRELL T...</td>\n",
       "      <td>Molly Burke</td>\n",
       "      <td>People &amp; Blogs</td>\n",
       "      <td>18:30:43</td>\n",
       "      <td>11/28/2017</td>\n",
       "      <td>231341</td>\n",
       "      <td>7734</td>\n",
       "      <td>212</td>\n",
       "      <td>youtube quiz|\"youtuber quiz\"|\"truth or dare\"|\"...</td>\n",
       "      <td>False</td>\n",
       "    </tr>\n",
       "    <tr>\n",
       "      <th>4</th>\n",
       "      <td>-2RVw2_QyxQ</td>\n",
       "      <td>11/16/2017</td>\n",
       "      <td>2017 Champions Showdown: Day 3</td>\n",
       "      <td>Saint Louis Chess Club</td>\n",
       "      <td>Education</td>\n",
       "      <td>02:39:01</td>\n",
       "      <td>11/12/2017</td>\n",
       "      <td>71089</td>\n",
       "      <td>460</td>\n",
       "      <td>27</td>\n",
       "      <td>Chess|\"Saint Louis\"|\"Club\"</td>\n",
       "      <td>False</td>\n",
       "    </tr>\n",
       "  </tbody>\n",
       "</table>\n",
       "</div>"
      ],
      "text/plain": [
       "      video_id trending_date  \\\n",
       "0  -0CMnp02rNY    06/11/2018   \n",
       "1  -0NYY8cqdiQ    02/01/2018   \n",
       "2  -1Hm41N0dUs    05/01/2018   \n",
       "3  -1yT-K3c6YI    12/02/2017   \n",
       "4  -2RVw2_QyxQ    11/16/2017   \n",
       "\n",
       "                                               title           channel_title  \\\n",
       "0  Mindy Kaling's Daughter Had the Perfect Reacti...            TheEllenShow   \n",
       "1  Megan Mullally Didn't Notice the Interesting P...            TheEllenShow   \n",
       "2  Cast of Avengers: Infinity War Draws Their Cha...       Jimmy Kimmel Live   \n",
       "3  YOUTUBER QUIZ + TRUTH OR DARE W/ THE MERRELL T...             Molly Burke   \n",
       "4                     2017 Champions Showdown: Day 3  Saint Louis Chess Club   \n",
       "\n",
       "         Category publish time publish_date    views  likes  dislikes  \\\n",
       "0   Entertainment     13:00:00   06/04/2018   800359   9773       332   \n",
       "1   Entertainment     14:00:39   01/29/2018   563746   4429        54   \n",
       "2          Comedy     07:30:02   04/27/2018  2058516  41248       580   \n",
       "3  People & Blogs     18:30:43   11/28/2017   231341   7734       212   \n",
       "4       Education     02:39:01   11/12/2017    71089    460        27   \n",
       "\n",
       "                                                tags  comments_disabled  \n",
       "0  ellen|\"ellen degeneres\"|\"the ellen show\"|\"elle...              False  \n",
       "1  megan mullally|\"megan\"|\"mullally\"|\"will and gr...              False  \n",
       "2  jimmy|\"jimmy kimmel\"|\"jimmy kimmel live\"|\"late...              False  \n",
       "3  youtube quiz|\"youtuber quiz\"|\"truth or dare\"|\"...              False  \n",
       "4                         Chess|\"Saint Louis\"|\"Club\"              False  "
      ]
     },
     "execution_count": 5,
     "metadata": {},
     "output_type": "execute_result"
    }
   ],
   "source": [
    "# data frame with rows for last trending date\n",
    "last_df = df[['video_id', 'trending_date']]\n",
    "last_df = last_df.groupby('video_id').max()\n",
    "last_df = last_df.reset_index()\n",
    "last_df = last_df.merge(df, how ='left')\n",
    "last_df.head()"
   ]
  },
  {
   "cell_type": "code",
   "execution_count": null,
   "metadata": {},
   "outputs": [],
   "source": [
    "# data frame with rows for first trending date\n",
    "first_df = df[['video_id', 'trending_date']]\n",
    "first_df = first_df.groupby('video_id').min()\n",
    "first_df = first_df.reset_index()\n",
    "first_df = first_df.merge(df, how ='left')\n",
    "# first_df.head()"
   ]
  },
  {
   "cell_type": "code",
   "execution_count": null,
   "metadata": {},
   "outputs": [],
   "source": [
    "# Mike's Code\n",
    "\n",
    "# VISUALIZATION 5: popular tags on YouTube videos\n",
    "\n",
    "# need to split the tags for each video into a new DataFrame in order to graph the bar chart\n",
    "# empty lists to store video_id & tags within for loops below\n",
    "tags_ = []\n",
    "ids = []\n",
    "\n",
    "# put tags into new list, split on \"|\"\n",
    "for _, row in first_df.iterrows():\n",
    "    current_tags = row[\"tags\"].split(\"|\")\n",
    "    \n",
    "    # for every video, all tags except the first one have quotation marks\n",
    "    # remove quotes by slicing the first and last character of each entry, starting with the 2nd one (index=1)\n",
    "    for i in range(1, len(current_tags)):\n",
    "        current_tags[i] = current_tags[i][1:-1]\n",
    "    \n",
    "    # push the clean entries into each list\n",
    "    for tag in current_tags:\n",
    "        tags_.append(tag)\n",
    "        ids.append(row[\"video_id\"])\n",
    "\n",
    "# create new dataframe with the clean entries, using video_id as the index\n",
    "video_tags = pd.DataFrame({\"video_id\": ids, \"tags\": tags_})\n",
    "video_tags"
   ]
  },
  {
   "cell_type": "code",
   "execution_count": null,
   "metadata": {},
   "outputs": [],
   "source": [
    "video_tags[\"tags\"].nunique()"
   ]
  },
  {
   "cell_type": "code",
   "execution_count": null,
   "metadata": {},
   "outputs": [],
   "source": [
    "## Mike's Code"
   ]
  },
  {
   "cell_type": "code",
   "execution_count": null,
   "metadata": {},
   "outputs": [],
   "source": [
    "# Riley's Code"
   ]
  },
  {
   "cell_type": "code",
   "execution_count": null,
   "metadata": {},
   "outputs": [],
   "source": [
    "# Split the Publish time column by the hour, convert to integer\n",
    "\n",
    "publish_df = last_df\n",
    "publish_df[[\"publish_hour\", \"publish_min_sec\"]] = publish_df[\"publish time\"].str.split(\":\", n=1, expand=True)\n",
    "publish_df['publish_hour'] = publish_df['publish_hour'].astype(int)\n",
    "# publish_df.head()\n",
    "\n",
    "# New DF grouped by the publish hour\n",
    "\n",
    "publish_group_df = publish_df.groupby('publish_hour').count()\n",
    "publish_group_df = publish_group_df['video_id']\n",
    "# publish_group_df"
   ]
  },
  {
   "cell_type": "code",
   "execution_count": null,
   "metadata": {},
   "outputs": [],
   "source": [
    "# Plot # of trending videos by publish time\n",
    "\n",
    "publish_group_df.plot(kind='bar', rot = 0)\n",
    "\n",
    "plt.xlabel('Time of Publish (h)')\n",
    "plt.ylabel('# of Trending Videos')\n",
    "plt.title('Youtube Trending Videos vs Publish Time')\n",
    "plt.show()\n",
    "\n",
    "trend_df = first_df\n",
    "trend_df['trending_date'] = pd.to_datetime(trend_df['trending_date'])\n",
    "trend_df['publish_date'] = pd.to_datetime(trend_df['publish_date'])\n",
    "trend_df['Days to Trend'] = trend_df['trending_date'] - trend_df['publish_date']\n",
    "max_trend = trend_df['Days to Trend'].max()\n",
    "min_trend = trend_df['Days to Trend'].min()\n",
    "mean_trend = trend_df['Days to Trend'].mean()\n",
    "med_trend = trend_df['Days to Trend'].median()\n",
    "\n",
    "print(max_trend)\n",
    "print(min_trend)\n",
    "print(mean_trend)\n",
    "print(med_trend)\n",
    "\n",
    "plt.boxplot()\n",
    "# I should add a box plot of days to go trending."
   ]
  },
  {
   "cell_type": "code",
   "execution_count": null,
   "metadata": {},
   "outputs": [],
   "source": [
    "## Riley's Code"
   ]
  },
  {
   "cell_type": "code",
   "execution_count": 35,
   "metadata": {},
   "outputs": [
    {
     "data": {
      "image/png": "[encoded data removed]",
      "text/plain": [
       "<Figure size 720x504 with 1 Axes>"
      ]
     },
     "metadata": {
      "needs_background": "light"
     },
     "output_type": "display_data"
    }
   ],
   "source": [
    "# Jackie's Code\n",
    "\n",
    "## VISUALIZATION 3: How many videos have gone trending per Category? (Bar Chart)\n",
    "last_df['Category'].value_counts().sort_values().plot(kind='barh', figsize=(10,7))\n",
    "plt.title(\"Number of trending videos by category\", size=15)\n",
    "plt.show()"
   ]
  },
  {
   "cell_type": "code",
   "execution_count": 36,
   "metadata": {},
   "outputs": [],
   "source": [
    "## Jackie's Code\n",
    "\n",
    "## VISUALIZATION 1: How do views and dis/likes correlate? (Linear Regression)\n",
    "# Define function for creating linear regression and scatter plot\n",
    "import scipy.stats as st\n",
    "\n",
    "# Define linear regression line\n",
    "def linear_regression(x,y):\n",
    "    print(f\"The r-squared is : {round(st.pearsonr(x, y)[0],2)}\")\n",
    "    (slope, intercept, rvalue, pvalue, stderr) = linregress(x, y)\n",
    "    regress_values = x * slope + intercept\n",
    "    line_eq = \"y = \" + str(round(slope,2)) + \"x + \" + str(round(intercept,2))\n",
    "    plt.scatter(x, y)\n",
    "    plt.plot(x,regress_values,\"r-\")\n",
    "    return line_eq\n",
    "\n",
    "# Define a function for annotating\n",
    "def annotate(line_eq, a,b):\n",
    "    plt.annotate(line_eq,(0,0),fontsize=15,color=\"red\")"
   ]
  },
  {
   "cell_type": "code",
   "execution_count": 37,
   "metadata": {},
   "outputs": [
    {
     "name": "stdout",
     "output_type": "stream",
     "text": [
      "The r-squared is : 0.69\n"
     ]
    },
    {
     "data": {
      "text/plain": [
       "Text(0, 0.5, 'Likes')"
      ]
     },
     "execution_count": 37,
     "metadata": {},
     "output_type": "execute_result"
    },
    {
     "data": {
      "image/png": "[encoded data removed]",
      "text/plain": [
       "<Figure size 432x288 with 1 Axes>"
      ]
     },
     "metadata": {
      "needs_background": "light"
     },
     "output_type": "display_data"
    }
   ],
   "source": [
    "## Jackie's Code\n",
    "\n",
    "## VISUALIZATION 1: How do views and likes correlate? (Linear Regression)\n",
    "# Filter outliers in data\n",
    "def reject_outliers(last_df):\n",
    "    u = np.mean(last_df.likes)\n",
    "    s = np.std(last_df.likes)\n",
    "    likes_filtered = last_df[(last_df.likes > u-2*s) & (last_df.likes < u+2*s)]\n",
    "    return likes_filtered \n",
    "\n",
    "likes_filtered = reject_outliers(last_df)\n",
    "x = likes_filtered['views'] \n",
    "y = likes_filtered['likes']\n",
    "\n",
    "equation = linear_regression(x, y)\n",
    "annotate(equation, 0, 0)\n",
    "plt.title(\"Number of Likes by Views\")\n",
    "plt.xlabel(\"Views\")\n",
    "plt.ylabel(\"Likes\")"
   ]
  },
  {
   "cell_type": "code",
   "execution_count": 38,
   "metadata": {},
   "outputs": [
    {
     "name": "stdout",
     "output_type": "stream",
     "text": [
      "The r-squared is : 0.69\n"
     ]
    },
    {
     "data": {
      "text/plain": [
       "Text(0, 0.5, 'Dislikes')"
      ]
     },
     "execution_count": 38,
     "metadata": {},
     "output_type": "execute_result"
    },
    {
     "data": {
      "image/png": "[encoded data removed]",
      "text/plain": [
       "<Figure size 432x288 with 1 Axes>"
      ]
     },
     "metadata": {
      "needs_background": "light"
     },
     "output_type": "display_data"
    }
   ],
   "source": [
    "## Jackie's Code\n",
    "\n",
    "## VISUALIZATION 1: How do views and dislikes correlate? (Linear Regression)\n",
    "# Filter outliers in data\n",
    "def reject_outliers(last_df):    \n",
    "    u = np.mean(last_df.dislikes)\n",
    "    s = np.std(last_df.dislikes)\n",
    "    dislikes_filtered = last_df[(last_df.dislikes > u-2*s) & (last_df.dislikes < u+2*s)]\n",
    "    return dislikes_filtered\n",
    "\n",
    "dislikes_filtered = reject_outliers(last_df)\n",
    "x = dislikes_filtered['views'] \n",
    "y = dislikes_filtered['dislikes']\n",
    "\n",
    "equation = linear_regression(x, y)\n",
    "annotate(equation, 0, 0)\n",
    "plt.title(\"Number of Dislikes by Views\")\n",
    "plt.xlabel(\"Views\")\n",
    "plt.ylabel(\"Dislikes\")"
   ]
  },
  {
   "cell_type": "code",
   "execution_count": 40,
   "metadata": {},
   "outputs": [
    {
     "data": {
      "image/png": "[encoded data removed]",
      "text/plain": [
       "<Figure size 1008x576 with 2 Axes>"
      ]
     },
     "metadata": {
      "needs_background": "light"
     },
     "output_type": "display_data"
    }
   ],
   "source": [
    "## Jackie's Code\n",
    "\n",
    "## VISUALIZATION 1: How do views and dislikes correlate? (correlation matrix)\n",
    "heatmap_columns = ['views', 'likes', 'dislikes']\n",
    "h_labels = ['Views', 'Likes', 'Dislikes']\n",
    "fig, ax = plt.subplots(figsize=(14,8))\n",
    "sns.heatmap(last_df[heatmap_columns].corr(), annot=True, xticklabels=h_labels, yticklabels=h_labels)\n",
    "\n",
    "plt.tight_layout()"
   ]
  },
  {
   "cell_type": "code",
   "execution_count": null,
   "metadata": {},
   "outputs": [],
   "source": [
    "# Brian's Code"
   ]
  },
  {
   "cell_type": "code",
   "execution_count": null,
   "metadata": {},
   "outputs": [],
   "source": [
    "# Generate a bar plot showing the top 20 youtube channels with most trending videos.\n",
    "\n",
    "# groupby video_id using count and channel_title\n",
    "vids_per_title_df = last_df[[\"video_id\", \"channel_title\"]]\n",
    "# vids_per_title_df.head()\n",
    "\n",
    "vids_per_title_df = vids_per_title_df.groupby(\"channel_title\").count()\n",
    "# len(vids_per_title_df)\n",
    "# vids_per_title_df.head()\n",
    "\n",
    "vids_per_title_df = vids_per_title_df.sort_values(by = 'video_id', ascending = False)\n",
    "# vids_per_title_df.head()\n",
    "\n",
    "# plot a bar chart\n",
    "# vids_per_title_df.head(20).plot(kind=\"bar\", figsize=(12,8), color = \"b\", legend=False)\n",
    "vids_per_title_df.head(20).plot(kind=\"bar\", figsize=(12,8), color = [plt.cm.Paired(np.arange(len(vids_per_title_df)))], legend=False)\n",
    "\n",
    "# title\n",
    "plt.title(\"Top Twenty YouTube Channels With Most Trending Videos\")\n",
    "plt.xticks(rotation=45, horizontalalignment=\"right\")\n",
    "plt.xlabel(\"YouTube Channels\")\n",
    "plt.ylabel(\"Number of Trending Videos\")\n",
    "\n",
    "plt.show()\n",
    "# plt.tight_layout()"
   ]
  },
  {
   "cell_type": "code",
   "execution_count": null,
   "metadata": {},
   "outputs": [],
   "source": [
    "## Brian's code"
   ]
  }
 ],
 "metadata": {
  "kernelspec": {
   "display_name": "Python 3",
   "language": "python",
   "name": "python3"
  },
  "language_info": {
   "codemirror_mode": {
    "name": "ipython",
    "version": 3
   },
   "file_extension": ".py",
   "mimetype": "text/x-python",
   "name": "python",
   "nbconvert_exporter": "python",
   "pygments_lexer": "ipython3",
   "version": "3.6.10"
  }
 },
 "nbformat": 4,
 "nbformat_minor": 4
}
