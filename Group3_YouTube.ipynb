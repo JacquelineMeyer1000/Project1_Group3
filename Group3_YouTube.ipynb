{
 "cells": [
  {
   "cell_type": "code",
   "execution_count": null,
   "metadata": {},
   "outputs": [],
   "source": [
    "# Dependencies\n",
    "import json\n",
    "import pandas as pd\n",
    "import numpy as np\n",
    "import matplotlib.pyplot as plt\n",
    "import datetime"
   ]
  },
  {
   "cell_type": "code",
   "execution_count": null,
   "metadata": {},
   "outputs": [],
   "source": [
    "csv_path = \"Resources/videos.csv\"\n",
    "df = pd.read_csv(csv_path)\n",
    "# df.head(10)"
   ]
  },
  {
   "cell_type": "code",
   "execution_count": null,
   "metadata": {},
   "outputs": [],
   "source": [
    "# clean up data before creating dataframe for calculations\n",
    "df_path = \"Resources/videos.csv\"\n",
    "df = pd.read_csv(df_path)\n",
    "\n",
    "df[[\"publish date\", \"asdf\"]] = df[\"publish_time\"].str.split(pat=\"T\", n=1, expand=True)\n",
    "\n",
    "\n",
    "df[[\"publish time\", \"trash\"]] = df[\"asdf\"].str.split(pat=\".\", n=1, expand=True)\n",
    "\n",
    "\n",
    "df[\"publish date\"] = pd.to_datetime(df[\"publish date\"])\n",
    "df[\"publish_date\"] = df[\"publish date\"].dt.strftime('%m/%d/%Y')\n",
    "\n",
    "\n",
    "category_json_path = \"Resources/US_category_id.json\"\n",
    "category_dict = {'category_id': [], 'Category': []}\n",
    "indexer = 0\n",
    "\n",
    "with open(category_json_path) as json_data:\n",
    "  data = json.load(json_data)\n",
    "\n",
    "items = data['items']\n",
    "# items\n",
    "\n",
    "for item in items:\n",
    "    \n",
    "    category_dict['category_id'].append(data['items'][indexer]['id'])\n",
    "    category_dict['Category'].append(data['items'][indexer]['snippet']['title'])\n",
    "    indexer = indexer + 1\n",
    "        \n",
    "\n",
    "\n",
    "category_df = pd.DataFrame(category_dict)\n",
    "category_df[\"category_id\"] = category_df[\"category_id\"].astype(int)\n",
    "df = df.merge(category_df, how='inner', on='category_id')\n",
    "\n",
    "\n",
    "\n",
    "df[\"trending_date\"]=pd.to_datetime(df[\"trending_date\"].astype(str), format=\"%y.%d.%m\")\n",
    "df[\"trending_date\"] = df[\"trending_date\"].dt.strftime(\"%m/%d/%Y\")\n",
    "#df.head()"
   ]
  },
  {
   "cell_type": "code",
   "execution_count": null,
   "metadata": {},
   "outputs": [],
   "source": [
    "# clean up data frame for only columns we want to work with\n",
    "df = df[[\"video_id\", \"title\", \"channel_title\", \"Category\", \"publish time\", \"publish_date\", \"trending_date\", \"views\", \"likes\", \"dislikes\", \"tags\", \"comments_disabled\"]]\n",
    "#df.head()"
   ]
  },
  {
   "cell_type": "code",
   "execution_count": null,
   "metadata": {},
   "outputs": [],
   "source": [
    "# data frame with rows for last trending date\n",
    "last_df = df[['video_id', 'trending_date']]\n",
    "last_df = last_df.groupby('video_id').max()\n",
    "last_df = last_df.reset_index()\n",
    "last_df = last_df.merge(df, how ='left')\n",
    "last_df.head()"
   ]
  },
  {
   "cell_type": "code",
   "execution_count": null,
   "metadata": {},
   "outputs": [],
   "source": [
    "# data frame with rows for first trending date\n",
    "first_df = df[['video_id', 'trending_date']]\n",
    "first_df = first_df.groupby('video_id').min()\n",
    "first_df = first_df.reset_index()\n",
    "first_df = first_df.merge(df, how ='left')\n",
    "#first_df.head()"
   ]
  },
  {
   "cell_type": "code",
   "execution_count": null,
   "metadata": {},
   "outputs": [],
   "source": [
    "# Mike's Code"
   ]
  },
  {
   "cell_type": "code",
   "execution_count": null,
   "metadata": {},
   "outputs": [],
   "source": [
    "# Riley's Code"
   ]
  },
  {
   "cell_type": "code",
   "execution_count": null,
   "metadata": {},
   "outputs": [],
   "source": [
    "# Split the Publish time column by the hour, convert to integer\n",
    "\n",
    "publish_df = last_df\n",
    "publish_df[[\"publish_hour\", \"publish_min_sec\"]] = publish_df[\"publish time\"].str.split(\":\", n=1, expand=True)\n",
    "publish_df['publish_hour'] = publish_df['publish_hour'].astype(int)\n",
    "# publish_df.head()"
   ]
  },
  {
   "cell_type": "code",
   "execution_count": null,
   "metadata": {},
   "outputs": [],
   "source": [
    "# New DF grouped by the publish hour\n",
    "\n",
    "publish_group_df = publish_df.groupby('publish_hour').count()\n",
    "publish_group_df = publish_group_df['video_id']\n",
    "# publish_group_df"
   ]
  },
  {
   "cell_type": "code",
   "execution_count": null,
   "metadata": {},
   "outputs": [],
   "source": [
    "# Plot # of trending videos by publish time\n",
    "\n",
    "publish_group_df.plot(kind='bar', rot = 0)\n",
    "\n",
    "plt.xlabel('Time of Publish (h)')\n",
    "plt.ylabel('# of Trending Videos')\n",
    "plt.title('Youtube Trending Videos vs Publish Time')\n",
    "plt.show()"
   ]
  },
  {
   "cell_type": "code",
   "execution_count": null,
   "metadata": {},
   "outputs": [],
   "source": [
    "trend_df = first_df\n",
    "trend_df['trending_date'] = pd.to_datetime(trend_df['trending_date'])\n",
    "trend_df['publish_date'] = pd.to_datetime(trend_df['publish_date'])\n",
    "trend_df['Days to Trend'] = trend_df['trending_date'] - trend_df['publish_date']\n",
    "max_trend = trend_df['Days to Trend'].max()\n",
    "min_trend = trend_df['Days to Trend'].min()\n",
    "mean_trend = trend_df['Days to Trend'].mean()\n",
    "med_trend = trend_df['Days to Trend'].median()\n",
    "\n",
    "print(max_trend)\n",
    "print(min_trend)\n",
    "print(mean_trend)\n",
    "print(med_trend)\n",
    "\n",
    "plt.boxplot()\n",
    "# I should add a box plot of days to go trending."
   ]
  },
  {
   "cell_type": "code",
   "execution_count": null,
   "metadata": {},
   "outputs": [],
   "source": [
    "# Jackie's Code"
   ]
  },
  {
   "cell_type": "code",
   "execution_count": null,
   "metadata": {},
   "outputs": [],
   "source": [
    "# Brian's Code"
   ]
  },
  {
   "cell_type": "code",
   "execution_count": null,
   "metadata": {},
   "outputs": [],
   "source": [
    "#this is my test cell to merge"
   ]
  }
 ],
 "metadata": {
  "kernelspec": {
   "display_name": "Python 3",
   "language": "python",
   "name": "python3"
  },
  "language_info": {
   "codemirror_mode": {
    "name": "ipython",
    "version": 3
   },
   "file_extension": ".py",
   "mimetype": "text/x-python",
   "name": "python",
   "nbconvert_exporter": "python",
   "pygments_lexer": "ipython3",
   "version": "3.6.10"
  }
 },
 "nbformat": 4,
 "nbformat_minor": 4
}
