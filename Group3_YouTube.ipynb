{
 "cells": [
  {
   "cell_type": "code",
   "execution_count": 1,
   "metadata": {},
   "outputs": [],
   "source": [
    "# Dependencies\n",
    "import json\n",
    "import pandas as pd\n",
    "import numpy as np\n",
    "import matplotlib.pyplot as plt\n",
    "import datetime\n",
    "import scipy.stats as sts"
   ]
  },
  {
   "cell_type": "code",
   "execution_count": 2,
   "metadata": {},
   "outputs": [],
   "source": [
    "csv_path = \"Resources/videos.csv\"\n",
    "df = pd.read_csv(csv_path)\n",
    "# df.head(10)"
   ]
  },
  {
   "cell_type": "code",
   "execution_count": 3,
   "metadata": {},
   "outputs": [],
   "source": [
    "# clean up data before creating dataframe for calculations\n",
    "df_path = \"Resources/videos.csv\"\n",
    "df = pd.read_csv(df_path)\n",
    "\n",
    "df[[\"publish date\", \"asdf\"]] = df[\"publish_time\"].str.split(pat=\"T\", n=1, expand=True)\n",
    "\n",
    "\n",
    "df[[\"publish time\", \"trash\"]] = df[\"asdf\"].str.split(pat=\".\", n=1, expand=True)\n",
    "\n",
    "\n",
    "df[\"publish date\"] = pd.to_datetime(df[\"publish date\"])\n",
    "df[\"publish_date\"] = df[\"publish date\"].dt.strftime('%m/%d/%Y')\n",
    "\n",
    "\n",
    "category_json_path = \"Resources/US_category_id.json\"\n",
    "category_dict = {'category_id': [], 'Category': []}\n",
    "indexer = 0\n",
    "\n",
    "with open(category_json_path) as json_data:\n",
    "  data = json.load(json_data)\n",
    "\n",
    "items = data['items']\n",
    "# items\n",
    "\n",
    "for item in items:\n",
    "    \n",
    "    category_dict['category_id'].append(data['items'][indexer]['id'])\n",
    "    category_dict['Category'].append(data['items'][indexer]['snippet']['title'])\n",
    "    indexer = indexer + 1\n",
    "        \n",
    "\n",
    "\n",
    "category_df = pd.DataFrame(category_dict)\n",
    "category_df[\"category_id\"] = category_df[\"category_id\"].astype(int)\n",
    "df = df.merge(category_df, how='inner', on='category_id')\n",
    "\n",
    "\n",
    "\n",
    "df[\"trending_date\"]=pd.to_datetime(df[\"trending_date\"].astype(str), format=\"%y.%d.%m\")\n",
    "df[\"trending_date\"] = df[\"trending_date\"].dt.strftime(\"%m/%d/%Y\")\n",
    "# df.head()"
   ]
  },
  {
   "cell_type": "code",
   "execution_count": 4,
   "metadata": {},
   "outputs": [],
   "source": [
    "# clean up data frame for only columns we want to work with\n",
    "df = df[[\"video_id\", \"title\", \"channel_title\", \"Category\", \"publish time\", \"publish_date\", \"trending_date\", \"views\", \"likes\", \"dislikes\", \"tags\", \"comments_disabled\"]]\n",
    "# df.head()"
   ]
  },
  {
   "cell_type": "code",
   "execution_count": 5,
   "metadata": {},
   "outputs": [
    {
     "data": {
      "text/html": [
       "<div>\n",
       "<style scoped>\n",
       "    .dataframe tbody tr th:only-of-type {\n",
       "        vertical-align: middle;\n",
       "    }\n",
       "\n",
       "    .dataframe tbody tr th {\n",
       "        vertical-align: top;\n",
       "    }\n",
       "\n",
       "    .dataframe thead th {\n",
       "        text-align: right;\n",
       "    }\n",
       "</style>\n",
       "<table border=\"1\" class=\"dataframe\">\n",
       "  <thead>\n",
       "    <tr style=\"text-align: right;\">\n",
       "      <th></th>\n",
       "      <th>video_id</th>\n",
       "      <th>trending_date</th>\n",
       "      <th>title</th>\n",
       "      <th>channel_title</th>\n",
       "      <th>Category</th>\n",
       "      <th>publish time</th>\n",
       "      <th>publish_date</th>\n",
       "      <th>views</th>\n",
       "      <th>likes</th>\n",
       "      <th>dislikes</th>\n",
       "      <th>tags</th>\n",
       "      <th>comments_disabled</th>\n",
       "    </tr>\n",
       "  </thead>\n",
       "  <tbody>\n",
       "    <tr>\n",
       "      <th>0</th>\n",
       "      <td>-0CMnp02rNY</td>\n",
       "      <td>06/11/2018</td>\n",
       "      <td>Mindy Kaling's Daughter Had the Perfect Reacti...</td>\n",
       "      <td>TheEllenShow</td>\n",
       "      <td>Entertainment</td>\n",
       "      <td>13:00:00</td>\n",
       "      <td>06/04/2018</td>\n",
       "      <td>800359</td>\n",
       "      <td>9773</td>\n",
       "      <td>332</td>\n",
       "      <td>ellen|\"ellen degeneres\"|\"the ellen show\"|\"elle...</td>\n",
       "      <td>False</td>\n",
       "    </tr>\n",
       "    <tr>\n",
       "      <th>1</th>\n",
       "      <td>-0NYY8cqdiQ</td>\n",
       "      <td>02/01/2018</td>\n",
       "      <td>Megan Mullally Didn't Notice the Interesting P...</td>\n",
       "      <td>TheEllenShow</td>\n",
       "      <td>Entertainment</td>\n",
       "      <td>14:00:39</td>\n",
       "      <td>01/29/2018</td>\n",
       "      <td>563746</td>\n",
       "      <td>4429</td>\n",
       "      <td>54</td>\n",
       "      <td>megan mullally|\"megan\"|\"mullally\"|\"will and gr...</td>\n",
       "      <td>False</td>\n",
       "    </tr>\n",
       "    <tr>\n",
       "      <th>2</th>\n",
       "      <td>-1Hm41N0dUs</td>\n",
       "      <td>05/01/2018</td>\n",
       "      <td>Cast of Avengers: Infinity War Draws Their Cha...</td>\n",
       "      <td>Jimmy Kimmel Live</td>\n",
       "      <td>Comedy</td>\n",
       "      <td>07:30:02</td>\n",
       "      <td>04/27/2018</td>\n",
       "      <td>2058516</td>\n",
       "      <td>41248</td>\n",
       "      <td>580</td>\n",
       "      <td>jimmy|\"jimmy kimmel\"|\"jimmy kimmel live\"|\"late...</td>\n",
       "      <td>False</td>\n",
       "    </tr>\n",
       "    <tr>\n",
       "      <th>3</th>\n",
       "      <td>-1yT-K3c6YI</td>\n",
       "      <td>12/02/2017</td>\n",
       "      <td>YOUTUBER QUIZ + TRUTH OR DARE W/ THE MERRELL T...</td>\n",
       "      <td>Molly Burke</td>\n",
       "      <td>People &amp; Blogs</td>\n",
       "      <td>18:30:43</td>\n",
       "      <td>11/28/2017</td>\n",
       "      <td>231341</td>\n",
       "      <td>7734</td>\n",
       "      <td>212</td>\n",
       "      <td>youtube quiz|\"youtuber quiz\"|\"truth or dare\"|\"...</td>\n",
       "      <td>False</td>\n",
       "    </tr>\n",
       "    <tr>\n",
       "      <th>4</th>\n",
       "      <td>-2RVw2_QyxQ</td>\n",
       "      <td>11/16/2017</td>\n",
       "      <td>2017 Champions Showdown: Day 3</td>\n",
       "      <td>Saint Louis Chess Club</td>\n",
       "      <td>Education</td>\n",
       "      <td>02:39:01</td>\n",
       "      <td>11/12/2017</td>\n",
       "      <td>71089</td>\n",
       "      <td>460</td>\n",
       "      <td>27</td>\n",
       "      <td>Chess|\"Saint Louis\"|\"Club\"</td>\n",
       "      <td>False</td>\n",
       "    </tr>\n",
       "  </tbody>\n",
       "</table>\n",
       "</div>"
      ],
      "text/plain": [
       "      video_id trending_date  \\\n",
       "0  -0CMnp02rNY    06/11/2018   \n",
       "1  -0NYY8cqdiQ    02/01/2018   \n",
       "2  -1Hm41N0dUs    05/01/2018   \n",
       "3  -1yT-K3c6YI    12/02/2017   \n",
       "4  -2RVw2_QyxQ    11/16/2017   \n",
       "\n",
       "                                               title           channel_title  \\\n",
       "0  Mindy Kaling's Daughter Had the Perfect Reacti...            TheEllenShow   \n",
       "1  Megan Mullally Didn't Notice the Interesting P...            TheEllenShow   \n",
       "2  Cast of Avengers: Infinity War Draws Their Cha...       Jimmy Kimmel Live   \n",
       "3  YOUTUBER QUIZ + TRUTH OR DARE W/ THE MERRELL T...             Molly Burke   \n",
       "4                     2017 Champions Showdown: Day 3  Saint Louis Chess Club   \n",
       "\n",
       "         Category publish time publish_date    views  likes  dislikes  \\\n",
       "0   Entertainment     13:00:00   06/04/2018   800359   9773       332   \n",
       "1   Entertainment     14:00:39   01/29/2018   563746   4429        54   \n",
       "2          Comedy     07:30:02   04/27/2018  2058516  41248       580   \n",
       "3  People & Blogs     18:30:43   11/28/2017   231341   7734       212   \n",
       "4       Education     02:39:01   11/12/2017    71089    460        27   \n",
       "\n",
       "                                                tags  comments_disabled  \n",
       "0  ellen|\"ellen degeneres\"|\"the ellen show\"|\"elle...              False  \n",
       "1  megan mullally|\"megan\"|\"mullally\"|\"will and gr...              False  \n",
       "2  jimmy|\"jimmy kimmel\"|\"jimmy kimmel live\"|\"late...              False  \n",
       "3  youtube quiz|\"youtuber quiz\"|\"truth or dare\"|\"...              False  \n",
       "4                         Chess|\"Saint Louis\"|\"Club\"              False  "
      ]
     },
     "execution_count": 5,
     "metadata": {},
     "output_type": "execute_result"
    }
   ],
   "source": [
    "# data frame with rows for last trending date\n",
    "last_df = df[['video_id', 'trending_date']]\n",
    "last_df = last_df.groupby('video_id').max()\n",
    "last_df = last_df.reset_index()\n",
    "last_df = last_df.merge(df, how ='left')\n",
    "last_df.head()"
   ]
  },
  {
   "cell_type": "code",
   "execution_count": 6,
   "metadata": {},
   "outputs": [],
   "source": [
    "# data frame with rows for first trending date\n",
    "first_df = df[['video_id', 'trending_date']]\n",
    "first_df = first_df.groupby('video_id').min()\n",
    "first_df = first_df.reset_index()\n",
    "first_df = first_df.merge(df, how ='left')\n",
    "# first_df.head()"
   ]
  },
  {
   "cell_type": "code",
   "execution_count": 7,
   "metadata": {},
   "outputs": [],
   "source": [
    "# Mike's Code\n",
    "\n",
    "# VISUALIZATION 5: popular tags on YouTube videos\n",
    "\n",
    "# need to split the tags for each video into a new DataFrame in order to graph the bar chart\n",
    "# empty lists to store video_id & tags within for loops below\n",
    "tags_ = []\n",
    "ids = []\n",
    "\n",
    "# put tags into new list, split on \"|\"\n",
    "for _, row in first_df.iterrows():\n",
    "    current_tags = row[\"tags\"].split(\"|\")\n",
    "    \n",
    "    # for every video, all tags except the first one have quotation marks\n",
    "    # remove quotes by slicing the first and last character of each entry, starting with the 2nd one (index=1)\n",
    "    for i in range(1, len(current_tags)):\n",
    "        current_tags[i] = current_tags[i][1:-1]\n",
    "    \n",
    "    # push the clean entries into each list\n",
    "    for tag in current_tags:\n",
    "        tags_.append(tag)\n",
    "        ids.append(row[\"video_id\"])\n",
    "\n",
    "# create new dataframe with the clean entries, using video_id as the index\n",
    "video_tags = pd.DataFrame({\"video_id\": ids, \"tags\": tags_})\n",
    "# video_tags"
   ]
  },
  {
   "cell_type": "code",
   "execution_count": 8,
   "metadata": {},
   "outputs": [
    {
     "data": {
      "text/plain": [
       "56163"
      ]
     },
     "execution_count": 8,
     "metadata": {},
     "output_type": "execute_result"
    }
   ],
   "source": [
    "video_tags[\"tags\"].nunique()"
   ]
  },
  {
   "cell_type": "code",
   "execution_count": 9,
   "metadata": {},
   "outputs": [],
   "source": [
    "## Mike's Code"
   ]
  },
  {
   "cell_type": "code",
   "execution_count": 10,
   "metadata": {},
   "outputs": [],
   "source": [
    "# Riley's Code"
   ]
  },
  {
   "cell_type": "code",
   "execution_count": 11,
   "metadata": {},
   "outputs": [],
   "source": [
    "# Split the Publish time column by the hour, convert to integer\n",
    "\n",
    "publish_df = last_df\n",
    "publish_df[[\"publish_hour\", \"publish_min_sec\"]] = publish_df[\"publish time\"].str.split(\":\", n=1, expand=True)\n",
    "publish_df['publish_hour'] = publish_df['publish_hour'].astype(int)\n",
    "# publish_df.head()\n",
    "\n",
    "# New DF grouped by the publish hour\n",
    "\n",
    "publish_group_df = publish_df.groupby('publish_hour').count()\n",
    "publish_group_df = publish_group_df['video_id']\n",
    "# publish_group_df"
   ]
  },
  {
   "cell_type": "code",
   "execution_count": 12,
   "metadata": {},
   "outputs": [
    {
     "data": {
      "image/png": "[encoded data removed]",
      "text/plain": [
       "<Figure size 432x288 with 1 Axes>"
      ]
     },
     "metadata": {
      "needs_background": "light"
     },
     "output_type": "display_data"
    },
    {
     "name": "stdout",
     "output_type": "stream",
     "text": [
      "4215 days 00:00:00\n",
      "0 days 00:00:00\n",
      "22 days 14:47:56.611764\n",
      "2 days 00:00:00\n"
     ]
    },
    {
     "ename": "TypeError",
     "evalue": "boxplot() missing 1 required positional argument: 'x'",
     "output_type": "error",
     "traceback": [
      "\u001b[1;31m---------------------------------------------------------------------------\u001b[0m",
      "\u001b[1;31mTypeError\u001b[0m                                 Traceback (most recent call last)",
      "\u001b[1;32m<ipython-input-12-c07ae26ba4b9>\u001b[0m in \u001b[0;36m<module>\u001b[1;34m\u001b[0m\n\u001b[0;32m     22\u001b[0m \u001b[0mprint\u001b[0m\u001b[1;33m(\u001b[0m\u001b[0mmed_trend\u001b[0m\u001b[1;33m)\u001b[0m\u001b[1;33m\u001b[0m\u001b[1;33m\u001b[0m\u001b[0m\n\u001b[0;32m     23\u001b[0m \u001b[1;33m\u001b[0m\u001b[0m\n\u001b[1;32m---> 24\u001b[1;33m \u001b[0mplt\u001b[0m\u001b[1;33m.\u001b[0m\u001b[0mboxplot\u001b[0m\u001b[1;33m(\u001b[0m\u001b[1;33m)\u001b[0m\u001b[1;33m\u001b[0m\u001b[1;33m\u001b[0m\u001b[0m\n\u001b[0m\u001b[0;32m     25\u001b[0m \u001b[1;31m# I should add a box plot of days to go trending.\u001b[0m\u001b[1;33m\u001b[0m\u001b[1;33m\u001b[0m\u001b[1;33m\u001b[0m\u001b[0m\n",
      "\u001b[1;31mTypeError\u001b[0m: boxplot() missing 1 required positional argument: 'x'"
     ]
    }
   ],
   "source": [
    "# Plot # of trending videos by publish time\n",
    "\n",
    "publish_group_df.plot(kind='bar', rot = 0)\n",
    "\n",
    "plt.xlabel('Time of Publish (h)')\n",
    "plt.ylabel('# of Trending Videos')\n",
    "plt.title('Youtube Trending Videos vs Publish Time')\n",
    "plt.show()\n",
    "\n",
    "trend_df = first_df\n",
    "trend_df['trending_date'] = pd.to_datetime(trend_df['trending_date'])\n",
    "trend_df['publish_date'] = pd.to_datetime(trend_df['publish_date'])\n",
    "trend_df['Days to Trend'] = trend_df['trending_date'] - trend_df['publish_date']\n",
    "max_trend = trend_df['Days to Trend'].max()\n",
    "min_trend = trend_df['Days to Trend'].min()\n",
    "mean_trend = trend_df['Days to Trend'].mean()\n",
    "med_trend = trend_df['Days to Trend'].median()\n",
    "\n",
    "print(max_trend)\n",
    "print(min_trend)\n",
    "print(mean_trend)\n",
    "print(med_trend)\n",
    "\n",
    "plt.boxplot()\n",
    "# I should add a box plot of days to go trending."
   ]
  },
  {
   "cell_type": "code",
   "execution_count": null,
   "metadata": {},
   "outputs": [],
   "source": [
    "## Riley's Code"
   ]
  },
  {
   "cell_type": "code",
   "execution_count": null,
   "metadata": {},
   "outputs": [],
   "source": [
    "# Jackie's Code\n",
    "\n",
    "## How many videos have gone trending per Category? (Bar Chart)\n",
    "last_df['Category'].value_counts().sort_values().plot(kind='barh', figsize=(20,18))\n",
    "plt.title(\"Number of trending videos by category\", size=20)\n",
    "plt.show()\n",
    "\n",
    "## Statistical Summary\n",
    "last_df.describe()"
   ]
  },
  {
   "cell_type": "code",
   "execution_count": null,
   "metadata": {},
   "outputs": [],
   "source": [
    "## Convert to floats and store views and likes as x and y values\n",
    "x_values = last_df['views'].astype('float')\n",
    "y_values = last_df['dislikes'].astype('float')\n",
    "\n",
    "# Run linear regression\n",
    "(slope, intercept, rvalue, pvalue, stderr) = linregress(x_values, y_values)\n",
    "regress_values = x_values * slope + intercept\n",
    "line_eq = \"y = \" + str(round(slope,2)) + \"x + \" + str(round(intercept,2))\n",
    "\n",
    "# Plot scatter plot\n",
    "plt.scatter(x_values,y_values)\n",
    "\n",
    "# Plot regression line\n",
    "plt.plot(x_values,regress_values,\"r-\")\n",
    "plt.annotate(line_eq,(6,10),fontsize=15,color=\"red\")\n",
    "\n",
    "# Label plot\n",
    "plt.xlabel('Number of Views')\n",
    "plt.ylabel('Number of Dislikes')\n",
    "plt.title(\"Number of Dislikes by View\", size=15)\n",
    "\n",
    "# Print r square value\n",
    "print(f\"R squared: {rvalue**2}\")\n",
    "\n",
    "# Show plot\n",
    "plt.show()"
   ]
  },
  {
   "cell_type": "code",
   "execution_count": 13,
   "metadata": {},
   "outputs": [
    {
     "name": "stdout",
     "output_type": "stream",
     "text": [
      "R squared: 0.6965206852640963\n"
     ]
    },
    {
     "data": {
      "image/png": "[encoded data removed]",
      "text/plain": [
       "<Figure size 432x288 with 1 Axes>"
      ]
     },
     "metadata": {
      "needs_background": "light"
     },
     "output_type": "display_data"
    },
    {
     "data": {
      "text/plain": [
       "publish_hour       views               -0.045143\n",
       "views              publish_hour        -0.045143\n",
       "comments_disabled  likes               -0.023821\n",
       "likes              comments_disabled   -0.023821\n",
       "publish_hour       likes               -0.021527\n",
       "likes              publish_hour        -0.021527\n",
       "comments_disabled  publish_hour        -0.009944\n",
       "publish_hour       comments_disabled   -0.009944\n",
       "comments_disabled  dislikes            -0.003202\n",
       "dislikes           comments_disabled   -0.003202\n",
       "publish_hour       dislikes             0.001496\n",
       "dislikes           publish_hour         0.001496\n",
       "views              comments_disabled    0.003062\n",
       "comments_disabled  views                0.003062\n",
       "likes              dislikes             0.420363\n",
       "dislikes           likes                0.420363\n",
       "                   views                0.441550\n",
       "views              dislikes             0.441550\n",
       "                   likes                0.834578\n",
       "likes              views                0.834578\n",
       "views              views                1.000000\n",
       "dislikes           dislikes             1.000000\n",
       "likes              likes                1.000000\n",
       "comments_disabled  comments_disabled    1.000000\n",
       "publish_hour       publish_hour         1.000000\n",
       "dtype: float64"
      ]
     },
     "execution_count": 13,
     "metadata": {},
     "output_type": "execute_result"
    }
   ],
   "source": [
    "## Convert to floats and store views and likes as x and y values\n",
    "x_values = last_df['views'].astype('float')\n",
    "y_values = last_df['likes'].astype('float')\n",
    "\n",
    "# Run linear regression\n",
    "(slope, intercept, rvalue, pvalue, stderr) = sts.linregress(x_values, y_values)\n",
    "regress_values = x_values * slope + intercept\n",
    "line_eq = \"y = \" + str(round(slope,2)) + \"x + \" + str(round(intercept,2))\n",
    "\n",
    "# Plot scatter plot\n",
    "plt.scatter(x_values,y_values)\n",
    "\n",
    "# Plot regression line\n",
    "plt.plot(x_values,regress_values,\"r-\")\n",
    "plt.annotate(line_eq,(6,10),fontsize=15,color=\"red\")\n",
    "\n",
    "# Label plot\n",
    "plt.xlabel('Number of Views')\n",
    "plt.ylabel('Number of Likes')\n",
    "plt.title(\"Number of Likes by View\", size=15)\n",
    "\n",
    "# Print r square value\n",
    "print(f\"R squared: {rvalue**2}\")\n",
    "\n",
    "# Show plot\n",
    "plt.show()\n",
    "\n",
    "# Generate the correlation matrix and find the strongest positive and negative correlations\n",
    "videos_corr = last_df.corr()\n",
    "videos_corr.unstack().sort_values()\n",
    "\n"
   ]
  },
  {
   "cell_type": "code",
   "execution_count": 14,
   "metadata": {},
   "outputs": [],
   "source": [
    "## Jackie's Code"
   ]
  },
  {
   "cell_type": "code",
   "execution_count": 15,
   "metadata": {},
   "outputs": [],
   "source": [
    "# Brian's Code"
   ]
  },
  {
   "cell_type": "code",
   "execution_count": 67,
   "metadata": {},
   "outputs": [],
   "source": [
    "# Generate a bar plot showing the top 20 youtube channels with most trending videos.\n",
    "\n",
    "# groupby video_id using count and channel_title\n",
    "vids_per_title_df = last_df[[\"video_id\", \"channel_title\"]]\n",
    "# vids_per_title_df.head()"
   ]
  },
  {
   "cell_type": "code",
   "execution_count": 71,
   "metadata": {},
   "outputs": [
    {
     "data": {
      "text/html": [
       "<div>\n",
       "<style scoped>\n",
       "    .dataframe tbody tr th:only-of-type {\n",
       "        vertical-align: middle;\n",
       "    }\n",
       "\n",
       "    .dataframe tbody tr th {\n",
       "        vertical-align: top;\n",
       "    }\n",
       "\n",
       "    .dataframe thead th {\n",
       "        text-align: right;\n",
       "    }\n",
       "</style>\n",
       "<table border=\"1\" class=\"dataframe\">\n",
       "  <thead>\n",
       "    <tr style=\"text-align: right;\">\n",
       "      <th></th>\n",
       "      <th>video_id</th>\n",
       "    </tr>\n",
       "    <tr>\n",
       "      <th>channel_title</th>\n",
       "      <th></th>\n",
       "    </tr>\n",
       "  </thead>\n",
       "  <tbody>\n",
       "    <tr>\n",
       "      <th>12 News</th>\n",
       "      <td>1</td>\n",
       "    </tr>\n",
       "    <tr>\n",
       "      <th>1MILLION Dance Studio</th>\n",
       "      <td>4</td>\n",
       "    </tr>\n",
       "    <tr>\n",
       "      <th>1theK (원더케이)</th>\n",
       "      <td>5</td>\n",
       "    </tr>\n",
       "    <tr>\n",
       "      <th>20th Century Fox</th>\n",
       "      <td>18</td>\n",
       "    </tr>\n",
       "    <tr>\n",
       "      <th>2CELLOS</th>\n",
       "      <td>1</td>\n",
       "    </tr>\n",
       "  </tbody>\n",
       "</table>\n",
       "</div>"
      ],
      "text/plain": [
       "                       video_id\n",
       "channel_title                  \n",
       "12 News                       1\n",
       "1MILLION Dance Studio         4\n",
       "1theK (원더케이)                  5\n",
       "20th Century Fox             18\n",
       "2CELLOS                       1"
      ]
     },
     "execution_count": 71,
     "metadata": {},
     "output_type": "execute_result"
    }
   ],
   "source": [
    "vids_per_title_df = vids_per_title_df.groupby(\"channel_title\").count()\n",
    "# len(vids_per_title_df)\n",
    "vids_per_title_df.head()"
   ]
  },
  {
   "cell_type": "code",
   "execution_count": 72,
   "metadata": {},
   "outputs": [
    {
     "data": {
      "image/png": "[encoded data removed]",
      "text/plain": [
       "<Figure size 864x576 with 1 Axes>"
      ]
     },
     "metadata": {
      "needs_background": "light"
     },
     "output_type": "display_data"
    },
    {
     "data": {
      "text/plain": [
       "<Figure size 432x288 with 0 Axes>"
      ]
     },
     "metadata": {},
     "output_type": "display_data"
    }
   ],
   "source": [
    "vids_per_title_df = vids_per_title_df.sort_values(by = 'video_id', ascending = False)\n",
    "# vids_per_title_df.head()\n",
    "\n",
    "# plot a bar chart\n",
    "# vids_per_title_df.head(20).plot(kind=\"bar\", figsize=(12,8), color = \"b\", legend=False)\n",
    "vids_per_title_df.head(20).plot(kind=\"bar\", figsize=(12,8), color = [plt.cm.Paired(np.arange(len(vids_per_title_df)))], legend=False)\n",
    "\n",
    "# title\n",
    "plt.title(\"Top Twenty YouTube Channels With Most Trending Videos\")\n",
    "plt.xticks(rotation=45, horizontalalignment=\"right\")\n",
    "plt.xlabel(\"YouTube Channels\")\n",
    "plt.ylabel(\"Number of Trending Videos\")\n",
    "\n",
    "plt.show()\n",
    "plt.tight_layout()"
   ]
  },
  {
   "cell_type": "code",
   "execution_count": 66,
   "metadata": {},
   "outputs": [
    {
     "data": {
      "image/png": "[encoded data removed]",
      "text/plain": [
       "<Figure size 432x288 with 1 Axes>"
      ]
     },
     "metadata": {
      "needs_background": "light"
     },
     "output_type": "display_data"
    }
   ],
   "source": [
    "#Create 2 boxplots comparing the results of average Youtube video views with comments disabled and comments enabled.\n",
    "\n",
    "comments_off_df = last_df.loc[last_df[\"comments_disabled\"] == True, [\"views\", \"comments_disabled\"]]\n",
    "# comments_off_df\n",
    "\n",
    "comments_on_df = last_df.loc[last_df[\"comments_disabled\"] == False, [\"views\", \"comments_disabled\"]]\n",
    "# comments_on_df\n",
    "\n",
    "fig1, ax1 = plt.subplots()\n",
    "ax1.boxplot([comments_off_df['views'], comments_on_df['views']], showfliers = False)\n",
    "\n",
    "# title and labels\n",
    "plt.title('AVG VIEWS WITH COMMENTS DISABLED VS. ENABLED')\n",
    "plt.ylabel('AVG VIEWS')\n",
    "plt.xticks([1, 2], [\"Comments Disabled\",\"Comments Enabled\"])\n",
    "\n",
    "plt.show()"
   ]
  },
  {
   "cell_type": "code",
   "execution_count": null,
   "metadata": {},
   "outputs": [],
   "source": [
    "## Brian's code"
   ]
  }
 ],
 "metadata": {
  "kernelspec": {
   "display_name": "Python 3",
   "language": "python",
   "name": "python3"
  },
  "language_info": {
   "codemirror_mode": {
    "name": "ipython",
    "version": 3
   },
   "file_extension": ".py",
   "mimetype": "text/x-python",
   "name": "python",
   "nbconvert_exporter": "python",
   "pygments_lexer": "ipython3",
   "version": "3.6.10"
  }
 },
 "nbformat": 4,
 "nbformat_minor": 4
}
